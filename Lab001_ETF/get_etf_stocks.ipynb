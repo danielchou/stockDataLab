{
 "cells": [
  {
   "cell_type": "code",
   "execution_count": 1,
   "metadata": {},
   "outputs": [],
   "source": [
    "import asyncio\n",
    "from _getEtf_YenTa import main\n",
    "\n",
    "await main()"
   ]
  },
  {
   "cell_type": "code",
   "execution_count": null,
   "metadata": {},
   "outputs": [],
   "source": [
    "import os\n",
    "import pandas as pd\n",
    "\n",
    "# 設置檔案路徑\n",
    "file_path = './data/etf/00940/'\n",
    "\n",
    "# 獲取所有符合模式的文件名稱\n",
    "files = [f for f in os.listdir(file_path) if f.endswith('.csv') and f.startswith('2024')]\n",
    "\n",
    "# 初始化一個空的DataFrame來存儲結果\n",
    "result = pd.DataFrame()\n",
    "\n",
    "from datetime import datetime #, timedelta\n",
    "todayFile = datetime.today().strftime(\"%Y%m%d%H:%M\") # 取得今天的日期\n",
    "todayFile += \"比較.csv\"\n",
    "\n",
    "for file in files:\n",
    "    # 讀取CSV文件\n",
    "    df = pd.read_csv(os.path.join(file_path, file), header=None, names=['代碼', '名稱', '數量', '權重'])\n",
    "    \n",
    "    # 計算每行數據與前一行的差值\n",
    "    if result.empty:\n",
    "        result = df.copy()\n",
    "    else:\n",
    "        result['數量'] = df['數量'] - result['數量']\n",
    "        result['權重'] = df['權重'] - result['權重']\n",
    "        # 將結果寫入CSV文件\n",
    "    result.to_csv(f'{file_path}/{todayFile}', index=False)"
   ]
  },
  {
   "cell_type": "code",
   "execution_count": null,
   "metadata": {},
   "outputs": [],
   "source": [
    "import pandas as pd\n",
    "import os\n",
    "import re\n",
    "\n",
    "# 設置 CSV 檔案目錄\n",
    "csv_dir = 'data/00940'\n",
    "\n",
    "# 初始化一個空的 DataFrame\n",
    "merged_data = pd.DataFrame()\n",
    "\n",
    "# 讀取每個 CSV 檔案並合併\n",
    "for file in os.listdir(csv_dir):\n",
    "    if file.endswith('.csv'):  # 排除包含 2024 年份的檔案\n",
    "        # 使用正則表達式提取檔案名稱中的 MMDD\n",
    "        match = re.search(r'(\\d{4})(\\d{2})(\\d{2})', file)\n",
    "        if match:\n",
    "            mmdd = match.group(2) + match.group(3)\n",
    "            file_path = os.path.join(csv_dir, file)\n",
    "            df = pd.read_csv(file_path, delimiter='\\t', header=None, skiprows=[0], names=['代碼', '名稱', '數量', '權重'])\n",
    "            df.set_index(['代碼', '名稱'], inplace=True)\n",
    "            merged_data[mmdd] = df['數量']\n",
    "\n",
    "# 創建一個新的欄位存儲最後兩個數量的差值\n",
    "merged_data['差值'] = merged_data.iloc[:, -1] - merged_data.iloc[:, -2]\n",
    "\n",
    "# 按照差值由大到小排列整個 DataFrame\n",
    "sorted_data = merged_data.sort_values(by='差值', ascending=False)\n",
    "\n",
    "# 刪除 'V' 欄位\n",
    "# sorted_data.drop(columns=['V'], inplace=True)\n",
    "# 顯示整理後的資料\n",
    "# print(sorted_data)\n",
    "\n",
    "from datetime import datetime #, timedelta\n",
    "todayFile = datetime.today().strftime(\"%Y%m%d%H\")                 # 取得今天的日期\n",
    "df = pd.DataFrame(sorted_data) # 将字典列表转换为 DataFrame\n",
    "df.to_csv(f\"data/compared/00940_{todayFile}.csv\", index=True, sep='\\t') #儲存成CSV\n",
    "\n"
   ]
  }
 ],
 "metadata": {
  "kernelspec": {
   "display_name": "Python 3",
   "language": "python",
   "name": "python3"
  },
  "language_info": {
   "codemirror_mode": {
    "name": "ipython",
    "version": 3
   },
   "file_extension": ".py",
   "mimetype": "text/x-python",
   "name": "python",
   "nbconvert_exporter": "python",
   "pygments_lexer": "ipython3",
   "version": "3.12.2"
  }
 },
 "nbformat": 4,
 "nbformat_minor": 2
}
