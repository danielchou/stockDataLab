{
 "cells": [
  {
   "cell_type": "code",
   "execution_count": 25,
   "metadata": {},
   "outputs": [
    {
     "name": "stdout",
     "output_type": "stream",
     "text": [
      "輸入成功!\n"
     ]
    }
   ],
   "source": [
    "import numpy as np\n",
    "from finlab import data, backtest\n",
    "\n",
    "rootpath= \"D:/project/finlabexportdata/\"\n",
    "import finlab\n",
    "finlab.login(open(f\"{rootpath}config.txt\", \"r\").read())\n",
    "\n",
    "import warnings\n",
    "warnings.simplefilter(action='ignore', category=FutureWarning) # 忽略FutureWarning\n",
    "\n",
    "close =  data.get('price:收盤價')\n",
    "volume = data.get('price:成交股數')\n",
    "revenue = data.get('monthly_revenue:當月營收')\n",
    "\n",
    "\n",
    "# 營收成長\n",
    "c1 = (revenue.pct_change().average(6) > 0).index_str_to_date()\n",
    "\n",
    "# 通道狹窄\n",
    "c2 = close.rolling(20).min() > close.rolling(20).max() * 0.7\n",
    "\n",
    "# 成交量與價格收縮\n",
    "volumeReduce = volume.average(10) < (volume.average(60)*0.5)\n",
    "# priceContract2 = close.rolling(30).std() < (close.rolling(60).std()*0.5)\n",
    "priceContract = close.rolling(10).std() < (close.rolling(60).std()*0.5)\n",
    "\n",
    "# VCP = 價量收縮、創新高、有足夠成交量\n",
    "vcp = (volumeReduce & priceContract).sustain(5, 1) & (close == close.rolling(100).max()) & (volume >= volume.rolling(20).mean()*0.8)\n",
    "\n",
    "\n",
    "# 總體部位\n",
    "# 進場：(c1, c2, vcp, 流動性足夠, 長期均向上)\n",
    "# 出場：股價 < 季線\n",
    "buy = (vcp & c1 & c2 & (volume*close > 2000000) & (close > close.average(250)))\n",
    "sell = close < close.average(60)\n",
    "\n",
    "position = buy.hold_until(sell, nstocks_limit=20, rank=(revenue / revenue.average(3)).replace([np.inf, -np.inf], np.nan).index_str_to_date())\n",
    "\n",
    "# 過濾 KY股\n",
    "sc = data.get(\"security_categories\")\n",
    "position_col = position.columns\n",
    "ky_filter = position_col[~position_col.isin(list(sc[sc[\"name\"].str.contains(\"KY\")][\"stock_id\"]))]\n",
    "position = position[ky_filter]\n",
    "\n",
    "\n",
    "# 回測\n",
    "r = backtest.sim(position, fee_ratio=1.425/1000/3, resample_offset='D', position_limit=0.2, resample='D', stop_loss=0.1)"
   ]
  }
 ],
 "metadata": {
  "kernelspec": {
   "display_name": "dev-finlab",
   "language": "python",
   "name": "python3"
  },
  "language_info": {
   "codemirror_mode": {
    "name": "ipython",
    "version": 3
   },
   "file_extension": ".py",
   "mimetype": "text/x-python",
   "name": "python",
   "nbconvert_exporter": "python",
   "pygments_lexer": "ipython3",
   "version": "3.12.2"
  }
 },
 "nbformat": 4,
 "nbformat_minor": 2
}
