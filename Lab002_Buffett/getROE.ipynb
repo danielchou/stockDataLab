{
 "cells": [
  {
   "cell_type": "code",
   "execution_count": 12,
   "metadata": {},
   "outputs": [
    {
     "ename": "SyntaxError",
     "evalue": "invalid decimal literal (899644377.py, line 51)",
     "output_type": "error",
     "traceback": [
      "\u001b[1;36m  Cell \u001b[1;32mIn[12], line 51\u001b[1;36m\u001b[0m\n\u001b[1;33m    & (volume > 3s00000)\u001b[0m\n\u001b[1;37m                ^\u001b[0m\n\u001b[1;31mSyntaxError\u001b[0m\u001b[1;31m:\u001b[0m invalid decimal literal\n"
     ]
    }
   ],
   "source": [
    "# Import necessary modules\n",
    "from finlab import data, backtest\n",
    "import talib\n",
    "\n",
    "rootpath= \"D:/project/stockDataLab/\"\n",
    "import finlab\n",
    "finlab.login(open(f\"{rootpath}config.txt\", \"r\").read())\n",
    "\n",
    "import warnings\n",
    "# 忽略FutureWarning\n",
    "warnings.simplefilter(action='ignore', category=FutureWarning)\n",
    "\n",
    "\n",
    "# Get financial data\n",
    "當月營收 = data.get(\"monthly_revenue:當月營收\")\n",
    "revenue_growth_rate = data.get('fundamental_features:營收成長率')\n",
    "roe = data.get('fundamental_features:ROE稅後')\n",
    "pb_ratio = data.get('price_earning_ratio:股價淨值比')\n",
    "volume = data.get('price:成交股數')\n",
    "close = data.get('price:收盤價')\n",
    "\n",
    "# 計算月營收斜率\n",
    "def rev_growth_func(rev):\n",
    "    return talib.LINEARREG_SLOPE(rev, timeperiod=12) / talib.LINEARREG_INTERCEPT(rev,12)\n",
    "\n",
    "rev_grouwth = 當月營收.apply(rev_growth_func)\n",
    "\n",
    "# Define selection criteria\n",
    "revenue_growth_threshold = revenue_growth_rate.index_str_to_date().quantile(0.8, axis=1)\n",
    "roe_threshold = roe.mean(axis=1)\n",
    "\n",
    "# Find stocks meeting criteria\n",
    "revenue_growth_stocks = revenue_growth_rate > revenue_growth_threshold\n",
    "high_roe_stocks = (roe > roe.index_str_to_date().quantile(0.6, axis=1)).deadline()\n",
    "rev_sl_compare = (當月營收.average(3) > 當月營收.average(12)) & (當月營收 > 當月營收.shift(12))\n",
    "\n",
    "# Define buy condition\n",
    "buy_condition = (\n",
    "\n",
    "    # 把 ROE > 80% 改成 ROE > 50%，ROE 在台股會有回歸效應（ROE高不可持續，反而傷害股價）\n",
    "    high_roe_stocks \n",
    "\n",
    "    # 增加月營收成長的部分（台股才有月營收，資料公布時間更快）\n",
    "    & (當月營收.pct_change().rolling(12).std() < 0.3)\n",
    "    & rev_sl_compare\n",
    "    \n",
    "    # 把本益比換成股價淨值比（本益比在台股上直接用比較困難）\n",
    "    & (pb_ratio < 2.2)  # 2 \n",
    "\n",
    "    # 增加流動性\n",
    "    & (volume > 300000)\n",
    "\n",
    "    # 回測後發現波動（風險）太大，選擇低風險特性的股票\n",
    "    & (close.pct_change().rolling(60).std() < 0.025)  #原本是60 , 0.025\n",
    ")\n",
    "\n",
    "# 月營收增長最快的股票\n",
    "p = rev_grouwth[buy_condition].is_largest(10)\n",
    "\n",
    "# 調整換股時間為月營收截止日\n",
    "p = p.reindex(當月營收.index_str_to_date().index)\n",
    "\n",
    "# Simulate positions\n",
    "result = backtest.sim(p, position_limit=0.2, resample='D', name='巴菲特選股法優化版')"
   ]
  }
 ],
 "metadata": {
  "kernelspec": {
   "display_name": "dev-finlab",
   "language": "python",
   "name": "python3"
  },
  "language_info": {
   "codemirror_mode": {
    "name": "ipython",
    "version": 3
   },
   "file_extension": ".py",
   "mimetype": "text/x-python",
   "name": "python",
   "nbconvert_exporter": "python",
   "pygments_lexer": "ipython3",
   "version": "3.12.2"
  }
 },
 "nbformat": 4,
 "nbformat_minor": 2
}
