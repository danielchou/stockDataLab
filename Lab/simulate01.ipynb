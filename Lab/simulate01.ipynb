{
 "cells": [
  {
   "cell_type": "code",
   "execution_count": 58,
   "metadata": {},
   "outputs": [
    {
     "name": "stdout",
     "output_type": "stream",
     "text": [
      "美國直債:\n",
      "總利息支付: 13226381.641155362\n",
      "最終還款總額: 21226381.641155362\n",
      "\n",
      "房貸:\n",
      "總利息支付: 4362545.498549792\n",
      "最終還款總額: 12362545.498549791\n"
     ]
    }
   ],
   "source": [
    "# 初始貸款金額\n",
    "loan_amount = 8000000  # 800萬美元\n",
    "\n",
    "# 美國直債利率\n",
    "treasury_bond_rate = 0.05  # 5%\n",
    "\n",
    "# 房貸利率\n",
    "mortgage_rate = 0.022  # 2.2%\n",
    "\n",
    "# 期數\n",
    "num_years = 20\n",
    "\n",
    "# 初始化變量以追蹤利息支付和總還款\n",
    "treasury_bond_interest_paid = 0\n",
    "mortgage_interest_paid = 0\n",
    "treasury_bond_total_repaid = loan_amount\n",
    "mortgage_total_repaid = loan_amount\n",
    "\n",
    "# 計算每年的利息支付和總還款\n",
    "for year in range(1, num_years + 1):\n",
    "    # 美國直債\n",
    "    treasury_bond_interest = treasury_bond_total_repaid * treasury_bond_rate\n",
    "    treasury_bond_interest_paid += treasury_bond_interest\n",
    "    treasury_bond_total_repaid += treasury_bond_interest\n",
    "\n",
    "    # 房貸\n",
    "    mortgage_interest = mortgage_total_repaid * mortgage_rate\n",
    "    mortgage_interest_paid += mortgage_interest\n",
    "    mortgage_total_repaid += mortgage_interest\n",
    "\n",
    "# 輸出結果\n",
    "print(\"美國直債:\")\n",
    "print(\"總利息支付:\", treasury_bond_interest_paid)\n",
    "print(\"最終還款總額:\", treasury_bond_total_repaid)\n",
    "print(\"\\n房貸:\")\n",
    "print(\"總利息支付:\", mortgage_interest_paid)\n",
    "print(\"最終還款總額:\", mortgage_total_repaid)\n"
   ]
  },
  {
   "cell_type": "code",
   "execution_count": 280,
   "metadata": {},
   "outputs": [
    {
     "name": "stdout",
     "output_type": "stream",
     "text": [
      "20年後的最終金額： 148.59\n"
     ]
    }
   ],
   "source": [
    "def compound_interest(principal, rate, years):\n",
    "    \"\"\"\n",
    "    計算複利的函數\n",
    "    :param principal: 本金\n",
    "    :param rate: 年複利率\n",
    "    :param years: 年數\n",
    "    :return: 最終金額\n",
    "    \"\"\"\n",
    "    amount = principal * (1 + rate) ** years\n",
    "    return amount\n",
    "\n",
    "# 設定初始條件\n",
    "principal = 100  # 本金\n",
    "rate = 0.02    # 年複利率\n",
    "years = 20     # 年數\n",
    "\n",
    "# 計算最終金額\n",
    "final_amount = compound_interest(principal, rate, years)\n",
    "\n",
    "print(\"20年後的最終金額：\", round(final_amount, 2))\n"
   ]
  },
  {
   "cell_type": "code",
   "execution_count": 369,
   "metadata": {},
   "outputs": [
    {
     "name": "stdout",
     "output_type": "stream",
     "text": [
      "20年後的最終金額(萬)： 285.64\n"
     ]
    }
   ],
   "source": [
    "import random\n",
    "\n",
    "def compound_interest(principal, rate_list):\n",
    "    \"\"\"\n",
    "    計算複利的函數\n",
    "    :param principal: 本金\n",
    "    :param rate_list: 年複利率列表\n",
    "    :return: 最終金額\n",
    "    \"\"\"\n",
    "    amount = principal\n",
    "    for rate in rate_list:\n",
    "        amount *= (1 + rate)\n",
    "    return amount\n",
    "\n",
    "# 設定初始條件\n",
    "principal = 100  # 本金\n",
    "years = 20     # 年數\n",
    "\n",
    "# 生成隨機年複利率列表\n",
    "# 中間數為8%，以 5% 到 11% 之間的隨機值作為年複利率、扣除3%通貨膨脹因素\n",
    "rate_list = [random.uniform(0.02, 0.09) for _ in range(years)]  \n",
    "final_amount = compound_interest(principal, rate_list)\n",
    "print(\"20年後的最終金額(萬)：\", round(final_amount, 2))\n"
   ]
  },
  {
   "cell_type": "code",
   "execution_count": 335,
   "metadata": {},
   "outputs": [
    {
     "name": "stdout",
     "output_type": "stream",
     "text": [
      "20年後存款的實際價值： 54.38\n"
     ]
    }
   ],
   "source": [
    "def calculate_future_value(principal, years, inflation_rate):\n",
    "    future_value = principal * ((1 - inflation_rate) ** years)\n",
    "    return future_value\n",
    "\n",
    "# 初始存款，假設放了100萬\n",
    "initial_deposit = 100\n",
    "\n",
    "# 年通脹率（假設為2%）\n",
    "inflation_rate = 0.03\n",
    "\n",
    "# 存款20年後的實際價值\n",
    "future_value = calculate_future_value(initial_deposit, 20, inflation_rate)\n",
    "\n",
    "print(\"20年後存款的實際價值：\", round(future_value, 2))\n"
   ]
  }
 ],
 "metadata": {
  "kernelspec": {
   "display_name": "Python 3",
   "language": "python",
   "name": "python3"
  },
  "language_info": {
   "codemirror_mode": {
    "name": "ipython",
    "version": 3
   },
   "file_extension": ".py",
   "mimetype": "text/x-python",
   "name": "python",
   "nbconvert_exporter": "python",
   "pygments_lexer": "ipython3",
   "version": "3.10.2"
  }
 },
 "nbformat": 4,
 "nbformat_minor": 2
}
