{
 "cells": [
  {
   "cell_type": "code",
   "execution_count": 8,
   "metadata": {},
   "outputs": [
    {
     "name": "stderr",
     "output_type": "stream",
     "text": [
      "<>:15: SyntaxWarning: invalid escape sequence '\\p'\n",
      "<>:15: SyntaxWarning: invalid escape sequence '\\p'\n",
      "C:\\Users\\danie\\AppData\\Local\\Temp\\ipykernel_13428\\3760588826.py:15: SyntaxWarning: invalid escape sequence '\\p'\n",
      "  df_stockName = pd.read_csv(f\"{current_path}\\paras\\股票名稱.csv\")\n"
     ]
    },
    {
     "name": "stdout",
     "output_type": "stream",
     "text": [
      "輸入成功!\n"
     ]
    }
   ],
   "source": [
    "import os\n",
    "import pandas as pd\n",
    "\n",
    "pd.set_option('display.expand_frame_repr', False)\n",
    "pd.set_option('display.max_rows', 500)\n",
    "pd.set_option(\"expand_frame_repr\", False)\n",
    "pd.set_option('display.width', 180)                       # 设置打印宽度(**重要**)\n",
    "current_path= os.path.dirname(os.getcwd())\n",
    "\n",
    "dir_path = \"xq_import\"\n",
    "files = os.listdir(dir_path)\n",
    "sorted_files = sorted(files)\n",
    "\n",
    "\n",
    "df_stockName = pd.read_csv(f\"{current_path}\\paras\\股票名稱.csv\")\n",
    "df_stockName.columns = [\"stockId\",\"stockName\",\"market\"]\n",
    "df_stockName.index = df_stockName[\"stockId\"]\n",
    "df_stockName[\"stockId\"] = df_stockName[\"stockId\"].astype(\"string\")\n",
    "\n",
    "import finlab\n",
    "finlab.login(open(\"config.txt\", \"r\").read())\n",
    "from finlab import data\n",
    "import pandas as pd\n",
    "import _beowFmt as fm \n",
    "\n",
    "##\n",
    "closes   = data.get(\"price:收盤價\").fillna(0).astype(float)[240:]\n",
    "opens    = data.get(\"price:開盤價\").fillna(0).astype(float)[240:]      #如果資料有空白自動填0\n",
    "highs    = data.get(\"price:最高價\").fillna(0).astype(float)[240:]\n",
    "lows     = data.get(\"price:最低價\").fillna(0).astype(float).tail(1)\n",
    "\n",
    "Ema5   = closes.rolling(5, min_periods=1).mean().round(3).astype(float).tail(1)\n",
    "Ema13  = closes.rolling(13, min_periods=1).mean().round(3).astype(float).tail(1)\n",
    "Ema34  = closes.rolling(34, min_periods=1).mean().round(3).astype(float).tail(1)\n",
    "Ema55  = closes.rolling(55, min_periods=1).mean().round(3).astype(float).tail(1)\n",
    "Ema89  = closes.rolling(89, min_periods=1).mean().round(3).astype(float).tail(1)\n",
    "volumns     = data.get(\"price:成交股數\").fillna(0).astype(float)[250: ]\n",
    "v           = (volumns/1000).round(0).astype(int)\n",
    "ylows       = lows.shift(1, axis = 0)\n",
    "ycloses     = closes.shift(1, axis = 0) \n",
    "\n",
    "cond1 = (closes >= opens) & (Ema5 > lows) & (opens > Ema5)\n",
    "cond2 = highs >= Ema5\n",
    "cond3 = Ema5 >= Ema13\n",
    "cond4 = Ema13 >= Ema34\n",
    "cond5 = Ema34 >= Ema55\n",
    "cond6 = Ema55 >= Ema89\n",
    "cond7 = v >= 2000\n",
    "position = cond1 & cond2 & cond3 & cond4 & cond5 & cond6 & cond7\n",
    "\n",
    "dff = position.iloc[-1:].transpose()\n",
    "dff[\"stock_ids\"] = dff.index\n",
    "dff.columns = [\"val\", \"stock_ids\"]\n",
    "\n",
    "dff = dff[ (dff[\"stock_ids\"].str.len() == 4) & (dff[\"val\"] == True) ]\n",
    "dff = dff.dropna(how='all')\n",
    "\n",
    "# print(dff)\n",
    "today, ss = position.iloc[-1:].index[0].strftime(\"%Y%m%d\"), \"\"\n",
    "\n",
    "for c in dff[\"stock_ids\"].tolist():\n",
    "    ss += f\"{c}.TW,\"\n",
    "fm.write_LogFile(f\"xq-data-Ema133455/{today}_站上Ema133455均線.csv\", ss) "
   ]
  }
 ],
 "metadata": {
  "kernelspec": {
   "display_name": "Python 3",
   "language": "python",
   "name": "python3"
  },
  "language_info": {
   "codemirror_mode": {
    "name": "ipython",
    "version": 3
   },
   "file_extension": ".py",
   "mimetype": "text/x-python",
   "name": "python",
   "nbconvert_exporter": "python",
   "pygments_lexer": "ipython3",
   "version": "3.12.2"
  },
  "orig_nbformat": 4
 },
 "nbformat": 4,
 "nbformat_minor": 2
}
