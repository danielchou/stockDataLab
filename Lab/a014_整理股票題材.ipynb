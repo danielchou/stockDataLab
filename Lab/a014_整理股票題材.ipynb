{
 "cells": [
  {
   "cell_type": "code",
   "execution_count": null,
   "metadata": {},
   "outputs": [],
   "source": [
    "import json\n",
    "import csv\n",
    "import ast\n",
    "\n",
    "def json_to_csv(json_file_path, csv_file_path):\n",
    "    # 讀取 JSON 檔案，指定編碼為 utf-8\n",
    "    with open(json_file_path, 'r', encoding='utf-8') as json_file:\n",
    "        data = json.load(json_file)\n",
    "\n",
    "    # 如果 JSON 數據是一個列表，則取第一個元素的鍵作為 CSV 的標題\n",
    "    if isinstance(data, list) and len(data) > 0:\n",
    "        keys = data[0].keys()\n",
    "\n",
    "        # 寫入 CSV 檔案\n",
    "        with open(csv_file_path, 'w', newline='', encoding='utf-8') as csv_file:\n",
    "            writer = csv.DictWriter(csv_file, fieldnames=keys)\n",
    "\n",
    "            # 寫入標題\n",
    "            writer.writeheader()\n",
    "\n",
    "            # 寫入數據\n",
    "            for row in data:\n",
    "                # 處理特定欄位\n",
    "                for key in row:\n",
    "                    if isinstance(row[key], str):\n",
    "                        try:\n",
    "                            # 使用 ast.literal_eval 將字符串轉換為列表\n",
    "                            list_data = ast.literal_eval(row[key])\n",
    "                            if isinstance(list_data, list) and len(list_data) > 0:\n",
    "                                row[key] = list_data[0]\n",
    "                        except (ValueError, SyntaxError):\n",
    "                            pass\n",
    "\n",
    "                writer.writerow(row)\n",
    "\n",
    "        print(f\"JSON 檔案已成功轉換為 CSV 檔案: {csv_file_path}\")\n",
    "    else:\n",
    "        print(\"JSON 檔案格式不正確或為空。\")\n",
    "\n",
    "# 使用範例\n",
    "json_file_path = r'D:\\project\\stockDataLab\\Lab\\data\\\\webJson\\\\stock_category.json'\n",
    "csv_file_path = r'D:\\project\\stockDataLab\\Lab\\data\\\\webJson\\\\stock_category.csv'\n",
    "json_to_csv(json_file_path, csv_file_path)\n"
   ]
  },
  {
   "cell_type": "code",
   "execution_count": null,
   "metadata": {},
   "outputs": [],
   "source": [
    "import json\n",
    "import csv\n",
    "\n",
    "def csv_to_json(csv_file_path, json_file_path):\n",
    "    # 讀取 CSV 檔案\n",
    "    data = []\n",
    "    with open(csv_file_path, 'r', encoding='utf-8') as csv_file:\n",
    "        reader = csv.DictReader(csv_file)\n",
    "        for row in reader:\n",
    "            # 移除 'name' 欄位\n",
    "            print(row)\n",
    "            row.pop('\\ufeffname', None)\n",
    "            # 將 'id' 欄位轉換為整數\n",
    "            if 'id' in row:\n",
    "                row['id'] = int(row['id'])\n",
    "            data.append(row)\n",
    "\n",
    "    # 寫入 JSON 檔案\n",
    "    with open(json_file_path, 'w', encoding='utf-8') as json_file:\n",
    "        json.dump(data, json_file, ensure_ascii=False, separators=(',', ':'))\n",
    "\n",
    "    print(f\"CSV 檔案已成功轉換為 JSON 檔案: {json_file_path}\")\n",
    "\n",
    "# 使用範例\n",
    "csv_file_path = r'D:\\project\\stockDataLab\\Lab\\data\\\\webJson\\\\stock_group.csv'\n",
    "json_file_path = r'D:\\project\\stockDataLab\\Lab\\data\\\\webJson\\\\stock_category.json'\n",
    "csv_to_json(csv_file_path, json_file_path)"
   ]
  },
  {
   "cell_type": "markdown",
   "metadata": {},
   "source": [
    "## 板塊圖設計\n"
   ]
  },
  {
   "cell_type": "code",
   "execution_count": 3,
   "metadata": {},
   "outputs": [
    {
     "name": "stdout",
     "output_type": "stream",
     "text": [
      "     name    id        cg\n",
      "401    盟立  2464  先進封裝玻璃基板\n",
      "807    辛耘  3583  先進封裝玻璃基板\n",
      "1481   群翊  6664  先進封裝玻璃基板\n",
      "1567   天虹  6937  先進封裝玻璃基板\n",
      "1574   鈦昇  8027  先進封裝玻璃基板\n",
      "1662   羅昇  8374  先進封裝玻璃基板\n"
     ]
    }
   ],
   "source": [
    "#修改股票題材\n",
    "import pandas as pd\n",
    "\n",
    "csv_file = r'D:\\project\\stockDataLab\\Lab\\data\\\\webJson\\\\stock_group.csv'\n",
    "df = pd.read_csv(csv_file)\n",
    "\n",
    "\n",
    "\n",
    "# # 給定的替換規則\n",
    "# replacement_rule = \"PBC-HDI:欣興、華通、健鼎、聯茂、定穎投控\"\n",
    "# replacement_rule = \"AI機器視覺:佳能、圓剛、所羅門、達明\"\n",
    "# replacement_rule = \"IP智財:創意、智原、力旺、晶心科、M31、世芯-KY\"\n",
    "# replacement_rule = \"黑神話悟空顯卡:華擎、映泰、承啟、麗臺、撼訊、青雲\"\n",
    "# replacement_rule = \"散熱顯卡:動力-KY、奇鋐、尼得科超眾\"\n",
    "replacement_rule = \"先進封裝玻璃基板:鈦昇、辛耘、盟立、群翊、天虹、羅昇、奇鼎\"\n",
    "# 解析替換規則\n",
    "new_category, codes = replacement_rule.split(':')\n",
    "codes = set(map(str, codes.split('、')))\n",
    "\n",
    "# print(new_category, codes)\n",
    "\n",
    "# # 更新 DataFrame 中的第三欄位\n",
    "# df.loc[df['id'].astype(int).isin(codes), 'cg'] = new_category\n",
    "# print(df[df['id'].isin(codes)])\n",
    "\n",
    "# 更新 DataFrame 中的第三欄位\n",
    "df.loc[df['name'].isin(codes), 'cg'] = new_category\n",
    "print(df[df['name'].isin(codes)])\n",
    "\n",
    "\n",
    "# 將更新後的 DataFrame 寫回到 CSV 文件\n",
    "df.to_csv(csv_file, index=False)\n"
   ]
  }
 ],
 "metadata": {
  "kernelspec": {
   "display_name": "dev-finlab",
   "language": "python",
   "name": "python3"
  },
  "language_info": {
   "codemirror_mode": {
    "name": "ipython",
    "version": 3
   },
   "file_extension": ".py",
   "mimetype": "text/x-python",
   "name": "python",
   "nbconvert_exporter": "python",
   "pygments_lexer": "ipython3",
   "version": "3.12.2"
  }
 },
 "nbformat": 4,
 "nbformat_minor": 2
}
