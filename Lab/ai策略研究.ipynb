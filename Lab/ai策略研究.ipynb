{
 "cells": [
  {
   "cell_type": "code",
   "execution_count": 6,
   "metadata": {},
   "outputs": [
    {
     "name": "stdout",
     "output_type": "stream",
     "text": [
      "輸入成功!\n"
     ]
    },
    {
     "name": "stderr",
     "output_type": "stream",
     "text": [
      "INFO:finlab.data:institutional_investors_trading_summary:外陸資買賣超股數(不含外資自營商) -- Daily data usage: 727.7 / 5000 MB\n",
      "INFO:finlab.data:institutional_investors_trading_summary:投信買賣超股數 -- Daily data usage: 733.6 / 5000 MB\n",
      "INFO:finlab.data:institutional_investors_trading_summary:自營商買賣超股數(自行買賣) -- Daily data usage: 742.8 / 5000 MB\n",
      "INFO:finlab.data:institutional_investors_trading_summary:自營商買賣超股數(避險) -- Daily data usage: 749.7 / 5000 MB\n"
     ]
    }
   ],
   "source": [
    "import finlab\n",
    "finlab.login(open(\"config.txt\", \"r\").read())\n",
    "from finlab import data\n",
    "import pandas as pd\n",
    "\n",
    "pd.set_option('display.expand_frame_repr', False)\n",
    "iStart, stockId = -250, \"1503\"\n",
    "\n",
    "closes   = data.get(\"price:收盤價\").fillna(0).astype(float)\n",
    "opens    = data.get(\"price:開盤價\").fillna(0).astype(float)\n",
    "highs    = data.get(\"price:最高價\").fillna(0).astype(float)\n",
    "lows     = data.get(\"price:最低價\").fillna(0).astype(float)\n",
    "volumns  = data.get(\"price:成交股數\").fillna(0).astype(float)\n",
    "# kd_k, kd_s  = data.indicator('STOCH', adjust_price=True)\n",
    "\n",
    "## 三大法人資料 ###\n",
    "fcb     = data.get('institutional_investors_trading_summary:外陸資買賣超股數(不含外資自營商)')\n",
    "ic      = data.get('institutional_investors_trading_summary:投信買賣超股數')\n",
    "dealer  = data.get('institutional_investors_trading_summary:自營商買賣超股數(自行買賣)')\n",
    "dealer2 = data.get('institutional_investors_trading_summary:自營商買賣超股數(避險)')\n",
    "_v       = data.get('price:成交股數').fillna(0).astype(float)\n",
    "\n"
   ]
  },
  {
   "cell_type": "code",
   "execution_count": 4,
   "metadata": {},
   "outputs": [
    {
     "name": "stderr",
     "output_type": "stream",
     "text": [
      "INFO:finlab.data:etl:adj_close -- Daily data usage: 628.7 / 5000 MB\n",
      "INFO:finlab.data:etl:adj_open -- Daily data usage: 656.9 / 5000 MB\n",
      "INFO:finlab.data:etl:adj_high -- Daily data usage: 685.1 / 5000 MB\n",
      "INFO:finlab.data:etl:adj_low -- Daily data usage: 713.1 / 5000 MB\n"
     ]
    }
   ],
   "source": [
    "\n",
    "emaD10 = data.indicator('EMA',adjust_price=True, timeperiod=10, resample=\"D\")  #D 代表日線, W 代表週線, M 代表月線。\n",
    "emaW13 = data.indicator('EMA',adjust_price=True, timeperiod=13, resample=\"W\")\n"
   ]
  },
  {
   "cell_type": "code",
   "execution_count": 7,
   "metadata": {},
   "outputs": [
    {
     "data": {
      "text/plain": [
       "['1216', '1536', '1736', '2002', '2376', '2377', '2890', '9939']"
      ]
     },
     "execution_count": 7,
     "metadata": {},
     "output_type": "execute_result"
    }
   ],
   "source": [
    "_emaD10 = emaD10[stockId].iloc[-1]\n",
    "_emaW13 = emaW13[stockId].iloc[-1]\n",
    "\n",
    "def format_XQ(r):\n",
    "    stockId= r[\"stockId\"]\n",
    "    return stockId+\".TW\"\n",
    "\n",
    "\n",
    "from finlab.backtest import sim\n",
    "data.set_universe(market='TSE_OTC')\n",
    "\n",
    "emaW01 = closes.resample(\"W\").last()  #計算周K收盤價\n",
    "emaM01 = closes.resample(\"M\").last()  #計算月K收盤價\n",
    "\n",
    "# stockId = \"1513\"\n",
    "# emaW01[stockId]\n",
    "cond1 = closes.iloc[-1] > emaW01.iloc[-2]\n",
    "cond2 = emaW01.iloc[-2] > emaM01.iloc[-2]\n",
    "cond3 = closes.iloc[-1] < 120\n",
    "cond4a = fcb.iloc[-1] > 0\n",
    "cond4b = ic.iloc[-1] > 0\n",
    "cond = cond1 & cond2 & cond3 & cond4a & cond4b\n",
    "df = cond[cond]\n",
    "df.index.tolist()\n",
    "\n",
    "\n",
    "# ww = emaW01[stockId].iloc[-2]\n",
    "# mm = emaM01[stockId].iloc[-2]\n",
    "# cc = closes[stockId].iloc[-1]\n",
    "# print(stockId, mm,ww,cc)\n",
    "# rr=sim(cond, resample='W', position_limit=0.05, upload=False)\n",
    "# print(rr.current_trades)\n"
   ]
  },
  {
   "cell_type": "code",
   "execution_count": 92,
   "metadata": {},
   "outputs": [
    {
     "name": "stdout",
     "output_type": "stream",
     "text": [
      "           entry_date exit_date entry_sig_date exit_sig_date  position  period  entry_index  exit_index    return  entry_price  exit_price       mae      gmfe      bmfe       mdd  pdays    weight  next_weights\n",
      "stock_id                                                                                                                                                                                                         \n",
      "2634 漢翔    2022-06-20       NaT     2022-06-17    2022-07-03   0.10806     6.0       3738.0        -1.0 -0.074128        34.40         NaN -0.094477  0.000000  0.000000 -0.094477    0.0  0.223264      0.000000\n",
      "4541 晟田    2022-06-20       NaT     2022-06-17    2022-07-03   0.10806     6.0       3738.0        -1.0  0.020221        27.20         NaN -0.071691  0.047794  0.047794 -0.114035    2.0  0.246015      0.000000\n",
      "6472 保瑞    2022-06-20       NaT     2022-06-17    2022-07-03   0.10806     6.0       3738.0        -1.0  0.092135       222.50         NaN  0.000000  0.101124  0.000000 -0.032653    5.0  0.263357      0.000000\n",
      "8222 寶一    2022-06-20       NaT     2022-06-17    2022-07-03   0.10806     6.0       3738.0        -1.0  0.108753        18.85         NaN  0.000000  0.159151  0.000000 -0.064073    5.0  0.267364      0.000000\n",
      "1784 訊聯           NaT       NaT     2022-07-03           NaT       NaN     NaN          NaN         NaN       NaN          NaN         NaN       NaN       NaN       NaN       NaN    NaN  0.000000      0.076923\n",
      "2498 宏達電          NaT       NaT     2022-07-03           NaT       NaN     NaN          NaN         NaN       NaN          NaN         NaN       NaN       NaN       NaN       NaN    NaN  0.000000      0.076923\n",
      "2548 華固           NaT       NaT     2022-07-03           NaT       NaN     NaN          NaN         NaN       NaN          NaN         NaN       NaN       NaN       NaN       NaN    NaN  0.000000      0.076923\n",
      "2723 美食-KY        NaT       NaT     2022-07-03           NaT       NaN     NaN          NaN         NaN       NaN          NaN         NaN       NaN       NaN       NaN       NaN    NaN  0.000000      0.076923\n",
      "3205 佰研           NaT       NaT     2022-07-03           NaT       NaN     NaN          NaN         NaN       NaN          NaN         NaN       NaN       NaN       NaN       NaN    NaN  0.000000      0.076923\n",
      "3444 利機           NaT       NaT     2022-07-03           NaT       NaN     NaN          NaN         NaN       NaN          NaN         NaN       NaN       NaN       NaN       NaN    NaN  0.000000      0.076923\n",
      "4114 健喬           NaT       NaT     2022-07-03           NaT       NaN     NaN          NaN         NaN       NaN          NaN         NaN       NaN       NaN       NaN       NaN    NaN  0.000000      0.076923\n",
      "4726 永昕           NaT       NaT     2022-07-03           NaT       NaN     NaN          NaN         NaN       NaN          NaN         NaN       NaN       NaN       NaN       NaN    NaN  0.000000      0.076923\n",
      "4911 德英           NaT       NaT     2022-07-03           NaT       NaN     NaN          NaN         NaN       NaN          NaN         NaN       NaN       NaN       NaN       NaN    NaN  0.000000      0.076923\n",
      "5344 立衛           NaT       NaT     2022-07-03           NaT       NaN     NaN          NaN         NaN       NaN          NaN         NaN       NaN       NaN       NaN       NaN    NaN  0.000000      0.076923\n",
      "5904 寶雅           NaT       NaT     2022-07-03           NaT       NaN     NaN          NaN         NaN       NaN          NaN         NaN       NaN       NaN       NaN       NaN    NaN  0.000000      0.076923\n",
      "6140 訊達電腦         NaT       NaT     2022-07-03           NaT       NaN     NaN          NaN         NaN       NaN          NaN         NaN       NaN       NaN       NaN       NaN    NaN  0.000000      0.076923\n",
      "8050 廣積           NaT       NaT     2022-07-03           NaT       NaN     NaN          NaN         NaN       NaN          NaN         NaN       NaN       NaN       NaN       NaN    NaN  0.000000      0.076923\n"
     ]
    }
   ],
   "source": [
    "from finlab.backtest import sim\n",
    "data.set_universe(market='TSE_OTC')\n",
    "\n",
    "adj_close   = data.get('etl:adj_close').loc['2012':]\n",
    "ema_5       = data.indicator('EMA', adjust_price=True, resample='D',timeperiod=5)\n",
    "ema_10      = data.indicator('EMA', adjust_price=True, resample='D',timeperiod=10)\n",
    "ema_20      = data.indicator('EMA', adjust_price=True, resample='D',timeperiod=20)\n",
    "atr         = data.indicator('ATR', adjust_price=True, resample='D',timeperiod=10)\n",
    "keltner_up  = ema_10+2*atr\n",
    "vol         = data.get('price:成交股數')/1000\n",
    "vol_avg     = vol.average(20)\n",
    "\n",
    "cond1 = (adj_close > keltner_up) & (adj_close.shift() < keltner_up.shift())\n",
    "cond2 = (ema_5 > ema_10) & (ema_10 > ema_20)\n",
    "cond3 = vol_avg > 100\n",
    "entries =  cond1 & cond2 & cond3\n",
    "exits = adj_close < keltner_up\n",
    "\n",
    "position = entries.hold_until(exits,nstocks_limit=20, rank=vol_avg)\n",
    "rr=sim(position,resample='2W',position_limit=0.05,upload=False)\n",
    "# rr.display()\n",
    "print(rr.current_trades)"
   ]
  },
  {
   "cell_type": "code",
   "execution_count": 167,
   "metadata": {},
   "outputs": [],
   "source": [
    "from finlab import data\n",
    "import _beowSet as bs  \n",
    "import _beowFmt as fm \n",
    "\n",
    "df = data.get('price:收盤價')\n",
    "df = df[(df.index >= '2022') & (df.index < \"2023\")]  # 限定範圍\n",
    "\n",
    "cond1 = df > df.rolling(5).mean()\n",
    "cond2 = df > df.rolling(10,min_periods=5).mean()\n",
    "cond3 = df > df.rolling(20,min_periods=10).mean()\n",
    "cond4 = df > df.rolling(60,min_periods=40).mean()\n",
    "cond5 = df > df.rolling(240,min_periods=180).mean()  \n",
    "position = (df * (cond1 & cond2 & cond3 & cond4))   #多頭排列\n",
    "position = position[position > 0]                   #找出往上漲\n",
    "position = position.is_largest(20)                  #前20大的\n",
    "\n",
    "df = position.iloc[-1]                              #找出最新的一筆(今天收盤後的)\n",
    "dff = df[df].index.tolist()                         #整理成股票號碼\n",
    "\n",
    "forXQ = map(lambda x: x+\".TW,\", dff)                #匯出CSV檔案\n",
    "stocks, today = \"\".join(list(forXQ))[:-1], \"2022-06-28\"\n",
    "fm.write_LogFile(f\"xq_import/{today}_多頭排列.csv\", stocks)\n"
   ]
  },
  {
   "cell_type": "code",
   "execution_count": 90,
   "metadata": {},
   "outputs": [
    {
     "name": "stdout",
     "output_type": "stream",
     "text": [
      "           entry_date exit_date entry_sig_date exit_sig_date  position  period  entry_index  exit_index        return  entry_price  exit_price       mae      gmfe      bmfe       mdd  pdays    weight  next_weights\n",
      "stock_id                                                                                                                                                                                                             \n",
      "1217 愛之味   2022-04-01       NaT     2022-03-31    2022-06-30 -0.000881    58.0       3686.0        -1.0 -8.085106e-02        11.75         NaN -0.131915  0.102128  0.102128 -0.212355    7.0  0.041260          0.00\n",
      "1416 廣豐    2021-10-01       NaT     2021-09-30    2022-06-30 -0.001101   178.0       3566.0        -1.0  4.784689e-02        10.60         NaN  0.000000  0.141509  0.000000 -0.115702  177.0  0.043547          0.00\n",
      "1453 大將    2021-10-01       NaT     2021-09-30    2022-06-30 -0.001101   178.0       3566.0        -1.0  1.532622e+00         8.43         NaN -0.026097  3.282325  0.109134 -0.425208  167.0  0.085603          0.00\n",
      "1524 耿鼎    2022-04-01       NaT     2022-03-31    2022-06-30 -0.000881    58.0       3686.0        -1.0  1.002227e+00        10.60         NaN  0.000000  1.273716  0.000000 -0.211087   57.0  0.089878          0.00\n",
      "1906 寶隆    2022-04-01       NaT     2022-03-31    2022-06-30 -0.000881    58.0       3686.0        -1.0  4.000000e-02        20.00         NaN -0.105000  0.070000  0.070000 -0.163551   28.0  0.046685          0.00\n",
      "2515 中工    2022-01-03       NaT     2021-12-30    2022-06-30 -0.000903   114.0       3630.0        -1.0 -1.449275e-02         8.97         NaN -0.046823  0.170569  0.170569 -0.185714   80.0  0.038350          0.00\n",
      "2537 聯上發   2021-07-01       NaT     2021-06-30    2022-06-30 -0.001047   242.0       3502.0        -1.0 -2.670142e-02         9.78         NaN -0.059713  0.219285  0.219285 -0.228821  210.0  0.038527          0.00\n",
      "2543 皇昌    2021-10-01       NaT     2021-09-30           NaT -0.001101   178.0       3566.0        -1.0  1.876676e-01         7.46         NaN -0.005362  0.447721  0.071046 -0.268519  170.0  0.050029          0.05\n",
      "2701 萬企    2022-04-01       NaT     2022-03-31           NaT -0.000881    58.0       3686.0        -1.0 -2.220446e-16        12.05         NaN -0.033195  0.020747  0.020747 -0.052846   10.0  0.044889          0.05\n",
      "2845 遠東銀   2022-04-01       NaT     2022-03-31    2022-06-30 -0.000881    58.0       3686.0        -1.0 -6.504065e-02        12.30         NaN -0.097561  0.048780  0.048780 -0.139535    8.0  0.041969          0.00\n",
      "2897 王道銀行  2021-10-01       NaT     2021-09-30    2022-06-30 -0.001101   178.0       3566.0        -1.0  1.861702e-01         7.52         NaN -0.001330  0.462766  0.006649 -0.229091  176.0  0.038705          0.00\n",
      "3252 海灣    2022-04-01       NaT     2022-03-31    2022-06-30 -0.000881    58.0       3686.0        -1.0  4.749263e-01        16.95         NaN -0.041298  0.545723  0.002950 -0.141221   22.0  0.066208          0.00\n",
      "3494 誠研    2022-04-01       NaT     2022-03-31    2022-06-30 -0.000881    58.0       3686.0        -1.0  5.425331e-01         5.29         NaN  0.000000  0.663516  0.000000 -0.193182   56.0  0.069243          0.00\n",
      "4707 磐亞    2022-04-01       NaT     2022-03-31    2022-06-30 -0.000881    58.0       3686.0        -1.0 -4.460967e-02        13.45         NaN -0.074349  0.011152  0.011152 -0.084559    2.0  0.042886          0.00\n",
      "5488 松普    2022-04-01       NaT     2022-03-31           NaT -0.000881    58.0       3686.0        -1.0  2.277904e-03         8.78         NaN -0.146925  0.060364  0.015945 -0.160314    9.0  0.044991          0.05\n",
      "5512 力麒    2022-01-03       NaT     2021-12-30    2022-06-30 -0.000903   114.0       3630.0        -1.0 -7.741251e-02         9.43         NaN -0.090138  0.006363  0.006363 -0.095890    8.0  0.041592          0.00\n",
      "8176 智捷    2022-04-01       NaT     2022-03-31    2022-06-30 -0.000881    58.0       3686.0        -1.0  2.681564e-02         8.95         NaN -0.033520  0.418994  0.000000 -0.280315   54.0  0.046093          0.00\n",
      "8354 冠好    2022-04-01       NaT     2022-03-31           NaT -0.000881    58.0       3686.0        -1.0  6.734007e-03        14.85         NaN -0.037037  0.013468  0.010101 -0.046667   26.0  0.045191          0.05\n",
      "8411 福貞-KY 2022-04-01       NaT     2022-03-31    2022-06-30 -0.000881    58.0       3686.0        -1.0 -7.282913e-02        17.85         NaN -0.126050  0.000000  0.000000 -0.126050    0.0  0.041620          0.00\n",
      "8488 吉源-KY 2022-04-01       NaT     2022-03-31           NaT -0.000881    58.0       3686.0        -1.0 -4.802260e-02        17.70         NaN -0.096045  0.002825  0.002825 -0.098592    1.0  0.042733          0.05\n",
      "1324 地球           NaT       NaT     2022-06-30           NaT       NaN     NaN          NaN         NaN           NaN          NaN         NaN       NaN       NaN       NaN       NaN    NaN  0.000000          0.05\n",
      "1340 勝悅-KY        NaT       NaT     2022-06-30           NaT       NaN     NaN          NaN         NaN           NaN          NaN         NaN       NaN       NaN       NaN       NaN    NaN  0.000000          0.05\n",
      "1471 首利           NaT       NaT     2022-06-30           NaT       NaN     NaN          NaN         NaN           NaN          NaN         NaN       NaN       NaN       NaN       NaN    NaN  0.000000          0.05\n",
      "1618 合機           NaT       NaT     2022-06-30           NaT       NaN     NaN          NaN         NaN           NaN          NaN         NaN       NaN       NaN       NaN       NaN    NaN  0.000000          0.05\n",
      "2506 太設           NaT       NaT     2022-06-30           NaT       NaN     NaN          NaN         NaN           NaN          NaN         NaN       NaN       NaN       NaN       NaN    NaN  0.000000          0.05\n",
      "2929 淘帝-KY        NaT       NaT     2022-06-30           NaT       NaN     NaN          NaN         NaN           NaN          NaN         NaN       NaN       NaN       NaN       NaN    NaN  0.000000          0.05\n",
      "3052 夆典           NaT       NaT     2022-06-30           NaT       NaN     NaN          NaN         NaN           NaN          NaN         NaN       NaN       NaN       NaN       NaN    NaN  0.000000          0.05\n",
      "3489 森寶           NaT       NaT     2022-06-30           NaT       NaN     NaN          NaN         NaN           NaN          NaN         NaN       NaN       NaN       NaN       NaN    NaN  0.000000          0.05\n",
      "3682 亞太電          NaT       NaT     2022-06-30           NaT       NaN     NaN          NaN         NaN           NaN          NaN         NaN       NaN       NaN       NaN       NaN    NaN  0.000000          0.05\n",
      "4414 如興           NaT       NaT     2022-06-30           NaT       NaN     NaN          NaN         NaN           NaN          NaN         NaN       NaN       NaN       NaN       NaN    NaN  0.000000          0.05\n",
      "5426 振發           NaT       NaT     2022-06-30           NaT       NaN     NaN          NaN         NaN           NaN          NaN         NaN       NaN       NaN       NaN       NaN    NaN  0.000000          0.05\n",
      "5515 建國           NaT       NaT     2022-06-30           NaT       NaN     NaN          NaN         NaN           NaN          NaN         NaN       NaN       NaN       NaN       NaN    NaN  0.000000          0.05\n",
      "5531 鄉林           NaT       NaT     2022-06-30           NaT       NaN     NaN          NaN         NaN           NaN          NaN         NaN       NaN       NaN       NaN       NaN    NaN  0.000000          0.05\n",
      "6264 富裔           NaT       NaT     2022-06-30           NaT       NaN     NaN          NaN         NaN           NaN          NaN         NaN       NaN       NaN       NaN       NaN    NaN  0.000000          0.05\n",
      "9946 三發地產         NaT       NaT     2022-06-30           NaT       NaN     NaN          NaN         NaN           NaN          NaN         NaN       NaN       NaN       NaN       NaN    NaN  0.000000          0.05\n"
     ]
    }
   ],
   "source": [
    "from finlab import data,backtest\n",
    "pb = data.get('price_earning_ratio:股價淨值比')\n",
    "close = data.get('price:收盤價')\n",
    "position = (1/(pb * close) * (close > close.average(60)) * (close > 5)).is_largest(20)\n",
    "\n",
    "rr = backtest.sim(position=-position.astype(float),resample='Q',upload=False)\n",
    "# rr.benchmark = close['0050']\n",
    "rr.display()\n",
    "print(rr.current_trades)"
   ]
  }
 ],
 "metadata": {
  "kernelspec": {
   "display_name": "Python 3.10.8 64-bit",
   "language": "python",
   "name": "python3"
  },
  "language_info": {
   "codemirror_mode": {
    "name": "ipython",
    "version": 3
   },
   "file_extension": ".py",
   "mimetype": "text/x-python",
   "name": "python",
   "nbconvert_exporter": "python",
   "pygments_lexer": "ipython3",
   "version": "3.10.8"
  },
  "orig_nbformat": 4,
  "vscode": {
   "interpreter": {
    "hash": "5598684e35808281c470853877934f7e11f222e6ce268f810e9e4f0e18b5c753"
   }
  }
 },
 "nbformat": 4,
 "nbformat_minor": 2
}
