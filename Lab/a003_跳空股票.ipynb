{
 "cells": [
  {
   "cell_type": "code",
   "execution_count": 2,
   "metadata": {},
   "outputs": [
    {
     "name": "stdout",
     "output_type": "stream",
     "text": [
      "輸入成功!\n"
     ]
    }
   ],
   "source": [
    "import finlab\n",
    "finlab.login(open(\"config.txt\", \"r\").read())\n",
    "\n",
    "from finlab import data\n",
    "import pandas as pd\n",
    "iStart = -250\n",
    "opens    = data.get(\"price:開盤價\").fillna(0).astype(float)[iStart: ]      #如果資料有空白自動填0\n",
    "closes   = data.get(\"price:收盤價\").fillna(0).astype(float)[iStart: ]\n",
    "highs    = data.get(\"price:最高價\").fillna(0).astype(float)[iStart: ]\n",
    "lows     = data.get(\"price:最低價\").fillna(0).astype(float)[iStart: ]\n",
    "volumns  = data.get(\"price:成交股數\").fillna(0).astype(float)[iStart: ]\n",
    "\n",
    "ma5   = closes.ewm(span=5, adjust=False).mean().round(2)\n",
    "ma7   = closes.ewm(span=7, adjust=False).mean().round(2)\n",
    "ma10  = closes.ewm(span=10, adjust=False).mean().round(2)\n",
    "ma20  = closes.ewm(span=20, adjust=False).mean().round(2)\n",
    "ma60  = closes.ewm(span=60, adjust=False).mean().round(2)\n",
    "ma240 = closes.ewm(span=240, adjust=False).mean().round(2)\n",
    "\n",
    "kd_k, kd_s  = data.indicator('STOCH')[iStart: ] \n",
    "pd.set_option('display.expand_frame_repr', False)"
   ]
  },
  {
   "attachments": {},
   "cell_type": "markdown",
   "metadata": {},
   "source": [
    "### 收盤後的跳空股票"
   ]
  },
  {
   "cell_type": "code",
   "execution_count": 3,
   "metadata": {},
   "outputs": [],
   "source": [
    "import pandas as pd\n",
    "import numpy as np\n",
    "from finlab import data\n",
    "from finlab import backtest\n",
    "import _beowFmt as fm \n",
    "\n",
    "pd.set_option('display.expand_frame_repr', True)\n",
    "ss = ''\n",
    "\n",
    "yHigh = highs.shift(1)\n",
    "yClose = closes.shift(1)\n",
    "cond1 = opens - yHigh > 0\n",
    "cond2 = closes >= opens\n",
    "cond3 = (closes - opens)/opens > 0.02\n",
    "cond4 = lows - yHigh > 0\n",
    "cma2 = ma10 >= ma7\n",
    "cma3 = ma20 >= ma10\n",
    "cma4 = ma60 >= ma20\n",
    "cma5 = ma240 >= ma60\n",
    "\n",
    "position = cond1 & cond2 & cond3 & cond4 & cma2  & cma3  & cma4  & cma5 \n",
    "dff = position.iloc[-1:].transpose()\n",
    "dff[\"stock_ids\"] = dff.index\n",
    "dff.columns = [\"val\", \"stock_ids\"]\n",
    "dff = dff[ (dff[\"stock_ids\"].str.len() == 4) & (dff[\"val\"] == True) ]\n",
    "dff = dff.dropna(how='all')\n",
    "\n",
    "today = position.iloc[-1:].index[0].strftime(\"%Y%m%d\")\n",
    "\n",
    "for c in dff[\"stock_ids\"].tolist():\n",
    "    ss += f\"{c}.TW,\"\n",
    "fm.write_LogFile(f\"xq-data/{today}_今天跳空開高.csv\", ss) \n"
   ]
  },
  {
   "cell_type": "code",
   "execution_count": 21,
   "metadata": {},
   "outputs": [],
   "source": [
    "pd.set_option('display.expand_frame_repr', True)\n",
    "ss = ''\n",
    "\n",
    "\n",
    "cond1 = ((highs - closes) / (closes - opens)) > 2\n",
    "cond2 = closes >= opens\n",
    "cond3 = highs > closes\n",
    "cond4 = closes > opens\n",
    "cond5 = opens == lows\n",
    "cond6 = opens > ma60\n",
    "\n",
    "cma2 = ma10 >= ma7\n",
    "cma3 = ma20 >= ma10\n",
    "cma4 = ma60 >= ma20\n",
    "cma5 = ma240 >= ma60\n",
    "\n",
    "\n",
    "position = cond1 & cond2 & cond3 & cond4 & cond5 & cond6 #& cma5 \n",
    "dff = position.iloc[-1:].transpose()\n",
    "dff[\"stock_ids\"] = dff.index\n",
    "dff.columns = [\"val\", \"stock_ids\"]\n",
    "dff = dff[ (dff[\"stock_ids\"].str.len() == 4) & (dff[\"val\"] == True) ]\n",
    "dff = dff.dropna(how='all')\n",
    "\n",
    "today = position.iloc[-1:].index[0].strftime(\"%Y%m%d\")\n",
    "\n",
    "for c in dff[\"stock_ids\"].tolist():\n",
    "    ss += f\"{c}.TW,\"\n",
    "fm.write_LogFile(f\"xq-data/{today}_紅K倒鎚子.csv\", ss) "
   ]
  }
 ],
 "metadata": {
  "kernelspec": {
   "display_name": "Python 3",
   "language": "python",
   "name": "python3"
  },
  "language_info": {
   "codemirror_mode": {
    "name": "ipython",
    "version": 3
   },
   "file_extension": ".py",
   "mimetype": "text/x-python",
   "name": "python",
   "nbconvert_exporter": "python",
   "pygments_lexer": "ipython3",
   "version": "3.10.2"
  },
  "orig_nbformat": 4,
  "vscode": {
   "interpreter": {
    "hash": "369f2c481f4da34e4445cda3fffd2e751bd1c4d706f27375911949ba6bb62e1c"
   }
  }
 },
 "nbformat": 4,
 "nbformat_minor": 2
}
