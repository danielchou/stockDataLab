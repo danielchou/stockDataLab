{
 "cells": [
  {
   "cell_type": "code",
   "execution_count": 1,
   "metadata": {},
   "outputs": [
    {
     "name": "stdout",
     "output_type": "stream",
     "text": [
      "輸入成功!\n"
     ]
    },
    {
     "name": "stderr",
     "output_type": "stream",
     "text": [
      "Your version is 1.1.1, please install a newer version.\n",
      "Use \"pip install finlab==1.2.10\" to update the latest version.\n"
     ]
    },
    {
     "name": "stdout",
     "output_type": "stream",
     "text": [
      "輸入成功!\n",
      "Daily usage: 10.8 / 5000 MB - etl:financial_statements_disclosure_dates\n",
      "匯出共 90 檔股票\n"
     ]
    }
   ],
   "source": [
    "## 找出今天數量，各種均量\n",
    "import finlab\n",
    "finlab.login(open(\"config.txt\", \"r\").read())\n",
    "\n",
    "from finlab import data\n",
    "import pandas as pd\n",
    "import _beowFmt as fm \n",
    "\n",
    "#----取得股票名稱----\n",
    "basic2 = data.get('company_basic_info')\n",
    "dfff = basic2[[\"stock_id\",\"公司簡稱\",\"產業類別\"]]\n",
    "df_b = dfff.set_index('stock_id')\n",
    "df_b\n",
    "\n",
    "def getStockName(stockId):\n",
    "    return df_b.loc[stockId][\"公司簡稱\"]\n",
    "#-------------------------------------------------------------------\n",
    "\n",
    "import finlab\n",
    "finlab.login(open(\"config.txt\", \"r\").read())\n",
    "from finlab import data\n",
    "from finlab.backtest import sim\n",
    "\n",
    "pe            = data.get('price_earning_ratio:本益比') #PE\n",
    "rev           = data.get('monthly_revenue:當月營收')\n",
    "rev_ma3       = rev.average(2) #3\n",
    "rev_ma12      = rev.average(12) #12\n",
    "營業利益成長率 = data.get('fundamental_features:營業利益成長率')\n",
    "peg           = (pe/營業利益成長率)\n",
    "\n",
    "cond1 = rev_ma3/rev_ma12 > 1.1\n",
    "cond2 = rev/rev.shift() > 0.9\n",
    "\n",
    "# 測試用數據\n",
    "# stocks = {\"1777\",\"1795\",\"2482\",\"2495\"}\n",
    "# pe2 = pe[stocks][-1:]\n",
    "# peg2 = peg[stocks][-1:]\n",
    "# rev2 = rev[stocks][-3:]\n",
    "# print(pe2)\n",
    "\n",
    "cond_all  = cond1 & cond2\n",
    "result    = peg*(cond_all)\n",
    "position  = result[result>0].is_smallest(90).reindex(rev.index_str_to_date().index, method='ffill')\n",
    "\n",
    "fm.trans2CSVfile(position, 'data/xq_本益比成長/本益比成長')\n"
   ]
  }
 ],
 "metadata": {
  "kernelspec": {
   "display_name": "Python 3",
   "language": "python",
   "name": "python3"
  },
  "language_info": {
   "codemirror_mode": {
    "name": "ipython",
    "version": 3
   },
   "file_extension": ".py",
   "mimetype": "text/x-python",
   "name": "python",
   "nbconvert_exporter": "python",
   "pygments_lexer": "ipython3",
   "version": "3.12.2"
  },
  "orig_nbformat": 4
 },
 "nbformat": 4,
 "nbformat_minor": 2
}
