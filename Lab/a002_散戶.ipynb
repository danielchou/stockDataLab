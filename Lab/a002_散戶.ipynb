{
 "cells": [
  {
   "cell_type": "code",
   "execution_count": null,
   "metadata": {},
   "outputs": [],
   "source": [
    "import finlab\n",
    "finlab.login(open(\"config.txt\", \"r\").read())\n",
    "from finlab import data\n",
    "from finlab import backtest\n",
    "import pandas as pd\n",
    "\n",
    "# 策略需用資料\n",
    "收盤價 = data.get(\"price:收盤價\")\n",
    "long_ma_pattern = (收盤價 > 收盤價.average(50)) & (收盤價 > 收盤價.average(150)) & (收盤價 > 收盤價.average(200))\n",
    "RS = ((收盤價/收盤價.shift(20)) / (收盤價['0050']/收盤價['0050'].shift(20)))\n",
    "price_pct = 收盤價.pct_change(10)\n",
    "去年同月增減 = data.get(\"monthly_revenue:去年同月增減(%)\")\n",
    "rev_rise_nsatisfy = 去年同月增減.rank(pct=True,axis=1)>0.8\n",
    "data.universe_stocks = {}\n",
    "score = data.get('etl:finlab_tw_stock_market_ind')['score']\n",
    "inventory = data.get(\"inventory\")\n",
    "\n",
    "#散戶比例\n",
    "small_inv = dataframe.FinlabDataFrame(inventory[(inventory.持股分級.astype(int) <= 8)].reset_index().groupby([\"date\", \"stock_id\"]).agg({\"占集保庫存數比例\": \"sum\"}).reset_index().pivot(\"date\", \"stock_id\")[\"占集保庫存數比例\"])\n",
    "\n",
    "#為指標打分\n",
    "def qcut_feature(data_name='RSrank', q_range=10, ascending=True):\n",
    "    import numpy as np\n",
    "\n",
    "    rank_df = ((data_name).rank(axis=1, pct=True, ascending=ascending).mul(q_range).add(1).apply(np.floor).clip(0,q_range))\n",
    "    return rank_df\n",
    "RSrank = qcut_feature(data_name=RS)\n",
    "\n",
    "cond1 = long_ma_pattern \n",
    "cond2 = small_inv.fall().sustain(8,3)  \n",
    "cond3 = ((收盤價.average(200)- (收盤價.average(200).shift(20))) > 0)\n",
    "cond4 = 收盤價 >= 1.25*(收盤價.rolling(260).min())\n",
    "cond5 = 收盤價 >= 0.75*(收盤價.rolling(260).max())\n",
    "cond6 = RSrank >= 9  \n",
    "cond7 = price_pct.is_largest(10) & rev_rise_nsatisfy\n",
    "\n",
    "cond_all = cond1 & cond2 &cond3 &cond4 & cond5 & cond6 & cond7\n",
    "\n",
    "#出場\n",
    "sma10 = 收盤價.average(10)\n",
    "sell = (sma10 < sma10.shift()) \n",
    "entries = cond_all\n",
    "score_df = score >= 4\n",
    "entries *= score_df\n",
    "\n",
    "entries = entries[entries.columns[~entries.columns.str[-1].isin(['L', 'B', 'C'])]]\n",
    "exits = sell \n",
    "\n",
    "position = entries.hold_until(exits, nstocks_limit=5 ,stop_loss = 0.15, take_profit=0.6 ,rank=RSrank )\n",
    "\n",
    "report = sim(position, resample=\"w\", position_limit=0.333, stop_loss=0.15 ,name='超級績效使用RS指標與營收與散戶較少加大盤濾網', mae_mfe_window=7, trade_at_price='close' )"
   ]
  }
 ],
 "metadata": {
  "kernelspec": {
   "display_name": "Python 3",
   "language": "python",
   "name": "python3"
  },
  "language_info": {
   "name": "python",
   "version": "3.7.9 (tags/v3.7.9:13c94747c7, Aug 17 2020, 16:30:00) [MSC v.1900 64 bit (AMD64)]"
  },
  "orig_nbformat": 4,
  "vscode": {
   "interpreter": {
    "hash": "a3228c686c13c3891ac7b9546204ca4390d65863877b8863b460a3da758c70c9"
   }
  }
 },
 "nbformat": 4,
 "nbformat_minor": 2
}
