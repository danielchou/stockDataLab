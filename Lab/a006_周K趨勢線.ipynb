{
 "cells": [
  {
   "cell_type": "code",
   "execution_count": 1,
   "metadata": {},
   "outputs": [
    {
     "name": "stdout",
     "output_type": "stream",
     "text": [
      "輸入成功!\n"
     ]
    },
    {
     "name": "stderr",
     "output_type": "stream",
     "text": [
      "Your version is 1.1.0, please install a newer version.\n",
      "Use \"pip install finlab==1.1.3\" to update the latest version.\n"
     ]
    }
   ],
   "source": [
    "import pandas as pd\n",
    "import numpy as np\n",
    "import finlab\n",
    "from finlab import data\n",
    "from finlab import backtest\n",
    "# import matplotlib \n",
    "import os\n",
    "import _beowFmt as fm \n",
    "import time\n",
    "current_path = os.getcwd()\n",
    "url = f\"{current_path}/config.txt\"\n",
    "finlab.login(open(url, \"r\").read())\n",
    "\n",
    "import warnings\n",
    "warnings.simplefilter(action='ignore', category=FutureWarning) # 忽略FutureWarning\n",
    "pd.set_option(\"display.max_rows\", 120)\n",
    "# today, ss = close.iloc[-1:].index[0].strftime(\"%Y%m%d\"), \"\"\n",
    "\n",
    "open = data.get(\"price:開盤價\")\n",
    "high = data.get(\"price:最高價\")\n",
    "close = data.get('price:收盤價')\n",
    "vol = data.get('price:成交股數')\n",
    "sma20 = close.average(20)"
   ]
  },
  {
   "cell_type": "code",
   "execution_count": 2,
   "metadata": {},
   "outputs": [],
   "source": [
    "# feb = close.shift(-80).dropna(how='all')\n",
    "from datetime import date\n",
    "ema5  = close.ewm(span=5, adjust=True).mean().round(2)\n",
    "ema13  = close.ewm(span=13, adjust=True).mean().round(2)\n",
    "ema34  = close.ewm(span=34, adjust=True).mean().round(2)\n",
    "ema89  = close.ewm(span=89, adjust=True).mean().round(2)\n",
    "\n",
    "# 找一挑趨勢線\n",
    "ema = (ema5 + ema13 + ema34 + ema89) / 4\n",
    "# 近一日收盤價創近25日新高\n",
    "c0 = close.rolling(25, min_periods=1).max() == close\n",
    "c1 = close > open\n",
    "c2 = open > ema\n",
    "c3 = ((close - open) / open) > 0.025\n",
    "c4 = ema5 > ema13\n",
    "c5 = ema13 > ema34\n",
    "# c4 = close.fall(6)\n",
    "#c2 = c1.shift(-1)\n",
    "\n",
    "df = c0 & c2 & c3 & c4 & c5\n",
    "\n",
    "# df = df.pct_change()  # 計算每天的價格變動百分比\n",
    "# df = df - df.shift(1)\n",
    "# df = df / df.shift(1)\n",
    "# df  = feb.std() \n",
    "\n",
    "# df = df[df.index > '2024-03']['3303'].round(5) #*1000  #------------------------------------------------------------------\n",
    "# print(df)\n",
    "\n",
    "dff = df.iloc[-1:].transpose()\n",
    "dff[\"stockId\"] = dff.index\n",
    "dff.columns = [\"val\", \"stockId\"]\n",
    "dff = dff[ (dff[\"stockId\"].str.len() == 4) & (dff[\"val\"] == True) ]\n",
    "\n",
    "nowDate, ss = date.today().strftime(\"%Y%m%d\"), ''\n",
    "\n",
    "for c in dff[\"stockId\"].tolist():\n",
    "    ss += f\"{c}.TW,\"\n",
    "fm.write_LogFile(f\"xq_突破趨勢線_small/{nowDate}.csv\", ss) \n",
    "\n"
   ]
  },
  {
   "cell_type": "code",
   "execution_count": null,
   "metadata": {},
   "outputs": [],
   "source": [
    "# import matplotlib\n",
    "# matplotlib.__version__\n",
    "from datetime import date\n",
    "today = date.today()  \n",
    "print(today.strftime(\"%Y%m%d\"))\n",
    "\n",
    "# # 月線下彎\n",
    "# position = sma20 < sma20.shift()\n",
    "\n",
    "# dff = position.iloc[-1:].transpose()\n",
    "# dff[\"stockId\"] = dff.index\n",
    "# dff.columns = [\"val\", \"stockId\"]\n",
    "# dff = dff[ (dff[\"stockId\"].str.len() == 4) & (dff[\"val\"] == True) ]\n",
    "# print(dff)\n",
    "\n",
    "# dff = dff.dropna(how='all')\n",
    "\n",
    "\n",
    "# for c in dff[\"stock_ids\"].tolist():\n",
    "#     ss += f\"{c}.TW,\"\n",
    "# fm.write_LogFile(f\"xq_import_二次創高/{today}_二次創高.csv\", ss) \n",
    "\n",
    "# print(sell.loc[:1])"
   ]
  }
 ],
 "metadata": {
  "kernelspec": {
   "display_name": "dev-finlab",
   "language": "python",
   "name": "python3"
  },
  "language_info": {
   "codemirror_mode": {
    "name": "ipython",
    "version": 3
   },
   "file_extension": ".py",
   "mimetype": "text/x-python",
   "name": "python",
   "nbconvert_exporter": "python",
   "pygments_lexer": "ipython3",
   "version": "3.12.2"
  }
 },
 "nbformat": 4,
 "nbformat_minor": 2
}
