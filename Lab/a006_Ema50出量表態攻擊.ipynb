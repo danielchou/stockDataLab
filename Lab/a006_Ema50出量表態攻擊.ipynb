{
 "cells": [
  {
   "cell_type": "code",
   "execution_count": 1,
   "metadata": {},
   "outputs": [
    {
     "name": "stdout",
     "output_type": "stream",
     "text": [
      "輸入成功!\n"
     ]
    },
    {
     "name": "stderr",
     "output_type": "stream",
     "text": [
      "Your version is 1.1.1, please install a newer version.\n",
      "Use \"pip install finlab==1.1.3\" to update the latest version.\n"
     ]
    }
   ],
   "source": [
    "import os\n",
    "import finlab\n",
    "current_path = os.getcwd()\n",
    "key = open(f\"{current_path}/config.txt\", \"r\").read()\n",
    "finlab.login(key)\n",
    "import pandas as pd\n",
    "from finlab import data\n",
    "import warnings\n",
    "warnings.simplefilter(action='ignore', category=FutureWarning) # 忽略FutureWarning\n",
    "pd.set_option(\"display.max_rows\", 120)\n",
    "# today, ss = close.iloc[-1:].index[0].strftime(\"%Y%m%d\"), \"\"\n",
    "\n",
    "open = data.get(\"price:開盤價\")\n",
    "high = data.get(\"price:最高價\")\n",
    "close = data.get('price:收盤價')\n",
    "low = data.get('price:最低價')\n",
    "vol = data.get('price:成交股數')\n",
    "\n",
    "ema13  = close.ewm(span=13, adjust=True).mean().round(2)\n",
    "ema50  = close.ewm(span=50, adjust=True).mean().round(2)"
   ]
  },
  {
   "cell_type": "code",
   "execution_count": 2,
   "metadata": {},
   "outputs": [],
   "source": [
    "# 近一日收盤價創近25日新高\n",
    "c0 = close.rolling(20, min_periods=1).max() == close\n",
    "c1 = close > open                       # 紅KBAR\n",
    "c2 = (high > ema13) & (open > ema13)\n",
    "c3 = (high > ema50) & (open > ema50)\n",
    "# c4 = ((close - open) / open) > 0.025\n",
    "c5 = close.fall(5).sustain(1)           # 11天內有四天下跌\n",
    "c6 = close > 10\n",
    "\n",
    "v1 = vol > vol.average(20) * 2\n",
    "v2 = vol > vol.shift(1) * 2\n",
    "v3 = vol/1000 > 2000                    # 數量要大於1600張\n",
    "\n",
    "# df = c0 & c1 & c2 & c3 & c5\n",
    "# df = c0& c1 & c2 & c3 & c5 & c6 & v1 & v2 & v3 & v4\n",
    "# df = (c2 | c3) & c5 & c6 & v1 & v2 & v3\n",
    "df = c3 & c6 & v1 & v2 & v3\n",
    "\n",
    "import _beowFmt as fm \n",
    "fm.trans2CSVfile(df, 'data/xq_Ema50出量表態攻擊/')\n",
    "\n",
    "\n"
   ]
  }
 ],
 "metadata": {
  "kernelspec": {
   "display_name": "dev-finlab",
   "language": "python",
   "name": "python3"
  },
  "language_info": {
   "codemirror_mode": {
    "name": "ipython",
    "version": 3
   },
   "file_extension": ".py",
   "mimetype": "text/x-python",
   "name": "python",
   "nbconvert_exporter": "python",
   "pygments_lexer": "ipython3",
   "version": "3.12.2"
  }
 },
 "nbformat": 4,
 "nbformat_minor": 2
}
