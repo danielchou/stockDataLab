{
 "cells": [
  {
   "cell_type": "code",
   "execution_count": 1,
   "metadata": {},
   "outputs": [
    {
     "name": "stdout",
     "output_type": "stream",
     "text": [
      "輸入成功!\n"
     ]
    },
    {
     "name": "stderr",
     "output_type": "stream",
     "text": [
      "Your version is 1.1.1, please install a newer version.\n",
      "Use \"pip install finlab==1.1.3\" to update the latest version.\n"
     ]
    }
   ],
   "source": [
    "import os\n",
    "import finlab\n",
    "current_path = os.getcwd()\n",
    "key = open(f\"{current_path}/config.txt\", \"r\").read()\n",
    "finlab.login(key)\n",
    "import pandas as pd\n",
    "from finlab import data\n",
    "import _beowFmt as fm \n",
    "import time\n",
    "import warnings\n",
    "warnings.simplefilter(action='ignore', category=FutureWarning) # 忽略FutureWarning\n",
    "pd.set_option(\"display.max_rows\", 120)\n",
    "# today, ss = close.iloc[-1:].index[0].strftime(\"%Y%m%d\"), \"\"\n",
    "\n",
    "open = data.get(\"price:開盤價\")\n",
    "high = data.get(\"price:最高價\")\n",
    "close = data.get('price:收盤價')\n",
    "low = data.get('price:最低價')\n",
    "vol = data.get('price:成交股數')\n",
    "\n",
    "ema13  = close.ewm(span=13, adjust=True).mean().round(2)\n",
    "ema50  = close.ewm(span=50, adjust=True).mean().round(2)\n",
    "revenue_growth_rate = data.get('fundamental_features:營收成長率')\n",
    "roe = data.get('fundamental_features:ROE稅後')"
   ]
  },
  {
   "cell_type": "code",
   "execution_count": 2,
   "metadata": {},
   "outputs": [],
   "source": [
    "roe3 = roe.rolling(window=3).sum()\n",
    "\n",
    "# print( roe3[['2850','2867','2816','2851']].tail(6))\n",
    "\n",
    "c1 = roe3.rise(3)\n",
    "c2 = close > ema50\n",
    "c3 = vol/1000 > 2000\n",
    "\n",
    "df = c1 & c2 & c3\n",
    "import _beowFmt as fm \n",
    "fm.trans2CSVfile(df, 'data/xq_ROE前三季累家持續增長/ROE持續增加')\n"
   ]
  }
 ],
 "metadata": {
  "kernelspec": {
   "display_name": "dev-finlab",
   "language": "python",
   "name": "python3"
  },
  "language_info": {
   "codemirror_mode": {
    "name": "ipython",
    "version": 3
   },
   "file_extension": ".py",
   "mimetype": "text/x-python",
   "name": "python",
   "nbconvert_exporter": "python",
   "pygments_lexer": "ipython3",
   "version": "3.12.2"
  }
 },
 "nbformat": 4,
 "nbformat_minor": 2
}
