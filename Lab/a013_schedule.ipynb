{
 "cells": [
  {
   "cell_type": "code",
   "execution_count": null,
   "metadata": {},
   "outputs": [],
   "source": [
    "import subprocess\n",
    "import time\n",
    "from datetime import datetime\n",
    "import signal\n",
    "import sys\n",
    "\n",
    "# 設置中斷信號處理\n",
    "def signal_handler(sig, frame):\n",
    "    print(\"中斷信號接收到，正在終止腳本...\")\n",
    "    sys.exit(0)\n",
    "\n",
    "signal.signal(signal.SIGINT, signal_handler)\n",
    "signal.signal(signal.SIGTERM, signal_handler)\n",
    "\n",
    "def is_within_time_range():\n",
    "    now = datetime.now()\n",
    "    start_time = now.replace(hour=9, minute=0, second=0, microsecond=0)\n",
    "    end_time = now.replace(hour=13, minute=25, second=0, microsecond=0)\n",
    "    return start_time <= now <= end_time\n",
    "\n",
    "def call_script():\n",
    "    try:\n",
    "        # 呼叫另一個Python腳本\n",
    "        result = subprocess.run(\n",
    "            [r\"C:\\Users\\danie\\AppData\\Local\\Programs\\Python\\Python312\\python.exe\", r\"D:\\project\\stockDataLab\\Lab\\a013_DDE.py\"],\n",
    "            check=True,\n",
    "            stderr=subprocess.PIPE,\n",
    "            text=True\n",
    "        )\n",
    "        print('已經執行', datetime.now())\n",
    "    except subprocess.CalledProcessError as e:\n",
    "        error_output = e.stderr\n",
    "        print(f\"子腳本執行失敗: {error_output}\")\n",
    "        # 解析錯誤信息以提取行號\n",
    "        lines = error_output.splitlines()\n",
    "        for line in lines:\n",
    "            if \"line\" in line:\n",
    "                print(f\"錯誤發生在: {line}\")\n",
    "                break\n",
    "\n",
    "def main():\n",
    "    while True:\n",
    "        if not is_within_time_range():\n",
    "            print(\"當前時間不在指定範圍內，終止腳本...\")\n",
    "            break\n",
    "\n",
    "        call_script()\n",
    "        time.sleep(50)  # 等待30秒\n",
    "\n",
    "if __name__ == \"__main__\":\n",
    "    main()\n",
    "\n"
   ]
  }
 ],
 "metadata": {
  "kernelspec": {
   "display_name": "Python 3",
   "language": "python",
   "name": "python3"
  },
  "language_info": {
   "codemirror_mode": {
    "name": "ipython",
    "version": 3
   },
   "file_extension": ".py",
   "mimetype": "text/x-python",
   "name": "python",
   "nbconvert_exporter": "python",
   "pygments_lexer": "ipython3",
   "version": "3.12.2"
  }
 },
 "nbformat": 4,
 "nbformat_minor": 2
}
