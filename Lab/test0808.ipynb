{
 "cells": [
  {
   "cell_type": "code",
   "execution_count": null,
   "metadata": {},
   "outputs": [],
   "source": [
    "import finlab\n",
    "finlab.login(open(\"config.txt\", \"r\").read())\n",
    "from finlab import data\n",
    "from finlab import backtest\n",
    "from finlab.backtest import sim\n",
    "import pandas as pd\n"
   ]
  },
  {
   "cell_type": "code",
   "execution_count": null,
   "metadata": {},
   "outputs": [],
   "source": [
    "closes = data.get(\"price:開盤價\")\n",
    "\n",
    "ma5 = closes.average(5)\n",
    "diff_WW = (ma5.diff() * ma5.diff().shift() < 0) \n",
    "latest_pivot_price_WW = ma5[diff_WW].ffill()\n",
    "\n",
    "ma20 = closes.average(20)\n",
    "diff_MM = (ma20.diff() * ma20.diff().shift() < 0) \n",
    "latest_pivot_price_MM = ma20[diff_MM].ffill()\n",
    "\n",
    "ma60 = closes.average(60)\n",
    "diff_QQ = (ma60.diff() * ma60.diff().shift() < 0) \n",
    "latest_pivot_price_QQ = ma60[diff_QQ].ffill()\n",
    "\n",
    "# position = latest_pivot_price_MM == latest_pivot_price_QQ\n",
    "# position\n",
    "\n",
    "# latest_pivot_price_MM['2330']['2021':].plot(drawstyle=\"steps-post\")\n",
    "# ma20['2330']['2021':].plot()\n",
    "\n",
    "# latest_pivot_price_QQ['2330']['2021':].plot(drawstyle=\"steps-post\")\n",
    "# ma60['2330']['2021':].plot(figsize=(5,3))\n",
    "\n",
    "entries = latest_pivot_price_MM == latest_pivot_price_MM\n",
    "exits = latest_pivot_price_QQ < latest_pivot_price_MM\n",
    "\n",
    "position = entries.hold_until(exits, nstocks_limit=100000, takeprofit=0.1 )['2330']\n",
    "report=sim(position,upload=True,mae_mfe_window=40, name='護國神山山難救援隊')\n",
    "trade_record=report.trades\n",
    "report.display_mae_mfe_analysis().show()\n",
    "report.display()\n",
    "\n",
    "\n",
    "# report = backtest.sim(position, resample='M')\n"
   ]
  }
 ],
 "metadata": {
  "kernelspec": {
   "display_name": "Python 3",
   "language": "python",
   "name": "python3"
  },
  "language_info": {
   "codemirror_mode": {
    "name": "ipython",
    "version": 3
   },
   "file_extension": ".py",
   "mimetype": "text/x-python",
   "name": "python",
   "nbconvert_exporter": "python",
   "pygments_lexer": "ipython3",
   "version": "3.10.8 (tags/v3.10.8:aaaf517, Oct 11 2022, 16:50:30) [MSC v.1933 64 bit (AMD64)]"
  },
  "orig_nbformat": 4,
  "vscode": {
   "interpreter": {
    "hash": "5598684e35808281c470853877934f7e11f222e6ce268f810e9e4f0e18b5c753"
   }
  }
 },
 "nbformat": 4,
 "nbformat_minor": 2
}
