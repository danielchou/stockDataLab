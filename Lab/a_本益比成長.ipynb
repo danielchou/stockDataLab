{
 "cells": [
  {
   "cell_type": "code",
   "execution_count": 1,
   "metadata": {},
   "outputs": [
    {
     "name": "stdout",
     "output_type": "stream",
     "text": [
      "輸入成功!\n"
     ]
    },
    {
     "name": "stderr",
     "output_type": "stream",
     "text": [
      "WARNING:finlab.data:company_basic_info -- Daily data usage: 213.0 / 5000 MB\n"
     ]
    },
    {
     "name": "stdout",
     "output_type": "stream",
     "text": [
      "輸入成功!\n"
     ]
    },
    {
     "name": "stderr",
     "output_type": "stream",
     "text": [
      "WARNING:finlab.data:price_earning_ratio:本益比 -- Daily data usage: 227.8 / 5000 MB\n",
      "WARNING:finlab.data:monthly_revenue:當月營收 -- Daily data usage: 231.1 / 5000 MB\n",
      "WARNING:finlab.data:fundamental_features:營業利益成長率 -- Daily data usage: 232.6 / 5000 MB\n",
      "WARNING:finlab.data:financial_statements_upload_detail:upload_date -- Daily data usage: 234.3 / 5000 MB\n",
      "WARNING:finlab.data:price:收盤價 -- Daily data usage: 256.5 / 5000 MB\n"
     ]
    },
    {
     "name": "stdout",
     "output_type": "stream",
     "text": [
      "總共 23 檔股票\n",
      "       val stock_id\n",
      "1513  True     1513\n",
      "1516  True     1516\n",
      "1584  True     1584\n",
      "2482  True     2482\n",
      "2701  True     2701\n",
      "2706  True     2706\n",
      "2809  True     2809\n",
      "2887  True     2887\n",
      "3004  True     3004\n",
      "3029  True     3029\n",
      "3046  True     3046\n",
      "3218  True     3218\n",
      "3661  True     3661\n",
      "3704  True     3704\n",
      "4119  True     4119\n",
      "4550  True     4550\n",
      "4763  True     4763\n",
      "4979  True     4979\n",
      "5284  True     5284\n",
      "5312  True     5312\n",
      "6016  True     6016\n",
      "6122  True     6122\n",
      "6235  True     6235\n"
     ]
    }
   ],
   "source": [
    "## 找出今天數量，各種均量\n",
    "import finlab\n",
    "finlab.login(open(\"config.txt\", \"r\").read())\n",
    "\n",
    "from finlab import data\n",
    "import pandas as pd\n",
    "import _beowFmt as fm \n",
    "\n",
    "#----取得股票名稱----\n",
    "basic2 = data.get('company_basic_info')\n",
    "dfff = basic2[[\"stock_id\",\"公司簡稱\",\"產業類別\"]]\n",
    "df_b = dfff.set_index('stock_id')\n",
    "df_b\n",
    "\n",
    "def getStockName(stockId):\n",
    "    return df_b.loc[stockId][\"公司簡稱\"]\n",
    "#-------------------------------------------------------------------\n",
    "\n",
    "import finlab\n",
    "finlab.login(open(\"config.txt\", \"r\").read())\n",
    "from finlab import data\n",
    "from finlab.backtest import sim\n",
    "\n",
    "pe            = data.get('price_earning_ratio:本益比')\n",
    "rev           = data.get('monthly_revenue:當月營收')\n",
    "rev_ma3       = rev.average(2) #3\n",
    "rev_ma12      = rev.average(12) #12\n",
    "營業利益成長率 = data.get('fundamental_features:營業利益成長率')\n",
    "peg           = (pe/營業利益成長率)\n",
    "cond1 = rev_ma3/rev_ma12 > 1.1\n",
    "cond2 = rev/rev.shift() > 0.9\n",
    "\n",
    "stocks = {\"1777\",\"1795\",\"2482\",\"2495\"}\n",
    "\n",
    "# pe2 = pe[stocks][-1:]\n",
    "# peg2 = peg[stocks][-1:]\n",
    "# rev2 = rev[stocks][-3:]\n",
    "# print(pe2)\n",
    "# print(peg2*100)\n",
    "# print(rev2)\n",
    "\n",
    "\n",
    "cond_all  = cond1 & cond2\n",
    "result    = peg*(cond_all)\n",
    "position  = result[result>0].is_smallest(90).reindex(rev.index_str_to_date().index, method='ffill')\n",
    "\n",
    "# position = cond1m & cond1q & cond1y & cond2m & cond2q & cond2yy & cond3y & cond3q & cond4\n",
    "# print(position)\n",
    "\n",
    "dff = position[-1:].transpose()\n",
    "dff[\"stock\"] = dff.index\n",
    "dff.columns = [\"val\", \"stock_id\"]\n",
    "df3 = dff[ (dff[\"val\"] == True) & (dff[\"stock_id\"].str.len() == 4)].dropna()\n",
    "\n",
    "print(f\"總共 {len(df3)} 檔股票\")\n",
    "print(df3)\n",
    "\n",
    "\n",
    "import _beowFmt as fm \n",
    "s1, s2, today = '', '', position.iloc[-1:].index[0].strftime(\"%Y%m%d\") \n",
    "\n",
    "for c in df3[\"stock_id\"].tolist():\n",
    "    s1 += f\"{c}.TW,\"\n",
    "    s2 += f\"{c}-{getStockName(c)}\\n\"\n",
    "fm.write_LogFile(f\"datas-xq/{today}_本益比成長.csv\", s1)\n",
    "fm.write_LogFile(f\"datas/{today}_本益比成長.csv\", s2)"
   ]
  }
 ],
 "metadata": {
  "kernelspec": {
   "display_name": "Python 3",
   "language": "python",
   "name": "python3"
  },
  "language_info": {
   "codemirror_mode": {
    "name": "ipython",
    "version": 3
   },
   "file_extension": ".py",
   "mimetype": "text/x-python",
   "name": "python",
   "nbconvert_exporter": "python",
   "pygments_lexer": "ipython3",
   "version": "3.10.2"
  },
  "orig_nbformat": 4
 },
 "nbformat": 4,
 "nbformat_minor": 2
}
