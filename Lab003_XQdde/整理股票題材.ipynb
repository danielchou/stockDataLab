{
 "cells": [
  {
   "cell_type": "code",
   "execution_count": null,
   "metadata": {},
   "outputs": [],
   "source": [
    "import json\n",
    "import csv\n",
    "import ast\n",
    "\n",
    "def json_to_csv(json_file_path, csv_file_path):\n",
    "    # 讀取 JSON 檔案，指定編碼為 utf-8\n",
    "    with open(json_file_path, 'r', encoding='utf-8') as json_file:\n",
    "        data = json.load(json_file)\n",
    "\n",
    "    # 如果 JSON 數據是一個列表，則取第一個元素的鍵作為 CSV 的標題\n",
    "    if isinstance(data, list) and len(data) > 0:\n",
    "        keys = data[0].keys()\n",
    "\n",
    "        # 寫入 CSV 檔案\n",
    "        with open(csv_file_path, 'w', newline='', encoding='utf-8') as csv_file:\n",
    "            writer = csv.DictWriter(csv_file, fieldnames=keys)\n",
    "\n",
    "            # 寫入標題\n",
    "            writer.writeheader()\n",
    "\n",
    "            # 寫入數據\n",
    "            for row in data:\n",
    "                # 處理特定欄位\n",
    "                for key in row:\n",
    "                    if isinstance(row[key], str):\n",
    "                        try:\n",
    "                            # 使用 ast.literal_eval 將字符串轉換為列表\n",
    "                            list_data = ast.literal_eval(row[key])\n",
    "                            if isinstance(list_data, list) and len(list_data) > 0:\n",
    "                                row[key] = list_data[0]\n",
    "                        except (ValueError, SyntaxError):\n",
    "                            pass\n",
    "\n",
    "                writer.writerow(row)\n",
    "\n",
    "        print(f\"JSON 檔案已成功轉換為 CSV 檔案: {csv_file_path}\")\n",
    "    else:\n",
    "        print(\"JSON 檔案格式不正確或為空。\")\n",
    "\n",
    "# 使用範例\n",
    "json_file_path = r'D:\\project\\stockDataLab\\Lab\\data\\\\webJson\\\\stock_category.json'\n",
    "csv_file_path = r'D:\\project\\stockDataLab\\Lab\\data\\\\webJson\\\\stock_category.csv'\n",
    "json_to_csv(json_file_path, csv_file_path)\n"
   ]
  },
  {
   "cell_type": "code",
   "execution_count": null,
   "metadata": {},
   "outputs": [],
   "source": [
    "import json\n",
    "import csv\n",
    "\n",
    "def csv_to_json(csv_file_path, json_file_path):\n",
    "    # 讀取 CSV 檔案\n",
    "    data = []\n",
    "    with open(csv_file_path, 'r', encoding='utf-8') as csv_file:\n",
    "        reader = csv.DictReader(csv_file)\n",
    "        for row in reader:\n",
    "            # 移除 'name' 欄位\n",
    "            print(row)\n",
    "            row.pop('\\ufeffname', None)\n",
    "            # 將 'id' 欄位轉換為整數\n",
    "            if 'id' in row:\n",
    "                row['id'] = int(row['id'])\n",
    "            data.append(row)\n",
    "\n",
    "    # 寫入 JSON 檔案\n",
    "    with open(json_file_path, 'w', encoding='utf-8') as json_file:\n",
    "        json.dump(data, json_file, ensure_ascii=False, separators=(',', ':'))\n",
    "\n",
    "    print(f\"CSV 檔案已成功轉換為 JSON 檔案: {json_file_path}\")\n",
    "\n",
    "# 使用範例\n",
    "csv_file_path = r'D:\\project\\stockDataLab\\Lab\\data\\\\webJson\\\\stock_group.csv'\n",
    "json_file_path = r'D:\\project\\stockDataLab\\Lab\\data\\\\webJson\\\\stock_category.json'\n",
    "csv_to_json(csv_file_path, json_file_path)"
   ]
  },
  {
   "cell_type": "markdown",
   "metadata": {},
   "source": [
    "## 板塊圖設計\n"
   ]
  },
  {
   "cell_type": "code",
   "execution_count": null,
   "metadata": {},
   "outputs": [
    {
     "name": "stdout",
     "output_type": "stream",
     "text": [
      "       name    id  cg\n",
      "392      凌群  2453  資安\n",
      "588      零壹  3029  資安\n",
      "838   安瑞-KY  3664  資安\n",
      "1311     精誠  6214  資安\n",
      "1454     普鴻  6590  資安\n",
      "1494   安碁資訊  6690  資安\n",
      "1555   偉康科技  6865  資安\n",
      "1565    走著瞧  6902  資安\n"
     ]
    }
   ],
   "source": [
    "#修改股票題材\n",
    "import pandas as pd\n",
    "\n",
    "csv_file = r'webJson\\stock_subject.csv'\n",
    "df = pd.read_csv(csv_file)\n",
    "\n",
    "\n",
    "# # 給定的替換規則\n",
    "# replacement_rule = \"PBC-HDI:欣興、華通、健鼎、聯茂、定穎投控\"\n",
    "# replacement_rule = \"AI機器視覺:佳能、圓剛、所羅門、達明\"\n",
    "# replacement_rule = \"IP智財:創意、智原、力旺、晶心科、M31、世芯-KY\"\n",
    "# replacement_rule = \"板卡顯卡:華擎、映泰、承啟、麗臺、撼訊、青雲\"\n",
    "# replacement_rule = \"散熱顯卡:動力-KY、奇鋐、尼得科超眾\"\n",
    "# replacement_rule = \"Switch2:茂達、創惟、原相、旺宏、瑞昱、偉詮電\"\n",
    "# replacement_rule = \"液冷三雄:奇鋐、雙鴻、建準\"\n",
    "# replacement_rule = \"乳膠雙雄:南帝、申豐\"\n",
    "# replacement_rule = \"CoWoS設備:弘塑、辛耘、萬潤、志聖、均豪、均華\"\n",
    "# replacement_rule = \"CPO矽光子:聯鈞、聯亞、光聖、創威、聯光通、上詮、華星光\"\n",
    "# replacement_rule = \"FOPLP:鑫科、友威科、東捷、群創\"\n",
    "# replacement_rule = \"無人機:雷虎、中光電、圓剛、羅昇、所羅門\"\n",
    "# replacement_rule = \"BBU:系統電、科風、全漢、西勝、順達、興能高、金山電、日電貿、新盛力、加百裕、長園科\"\n",
    "replacement_rule = \"資安:安碁資訊、精誠、零壹、普鴻、安瑞-KY、偉康科技、走著瞧、凌群\"\n",
    "# 解析替換規則\n",
    "new_category, codes = replacement_rule.split(':')\n",
    "codes = set(map(str, codes.split('、')))\n",
    "\n",
    "# print(new_category, codes)\n",
    "\n",
    "# # 更新 DataFrame 中的第三欄位\n",
    "# df.loc[df['id'].astype(int).isin(codes), 'cg'] = new_category\n",
    "# print(df[df['id'].isin(codes)])\n",
    "\n",
    "# 更新 DataFrame 中的第三欄位\n",
    "df.loc[df['name'].isin(codes), 'cg'] = new_category\n",
    "print(df[df['name'].isin(codes)])\n",
    "\n",
    "# 將更新後的 DataFrame 寫回到 CSV 文件\n",
    "df.to_csv(csv_file, index=False)\n"
   ]
  },
  {
   "cell_type": "code",
   "execution_count": 7,
   "metadata": {},
   "outputs": [
    {
     "name": "stdout",
     "output_type": "stream",
     "text": [
      "685\n"
     ]
    }
   ],
   "source": [
    "# 讀取文字檔案中的股票代碼\n",
    "with open(r'stock/0.txt', 'r') as file:\n",
    "    stock_ids = file.read().strip().split(',')\n",
    "\n",
    "# 過濾掉空字串並將股票代碼轉換為整數\n",
    "stock_ids = [int(stock_id) for stock_id in stock_ids if stock_id]\n",
    "\n",
    "# 將股票代碼排序\n",
    "stock_ids = sorted(stock_ids)\n",
    "\n",
    "# 將排序後的股票代碼轉換回字串\n",
    "sorted_stock_ids = ','.join(map(str, stock_ids))\n",
    "\n",
    "# 輸出排序後的股票代碼\n",
    "print(len(stock_ids))\n",
    "\n",
    "# 將排序後的股票代碼寫回文字檔案\n",
    "with open(r'stock/sorted.txt', 'w') as file:\n",
    "    file.write(sorted_stock_ids)\n"
   ]
  },
  {
   "cell_type": "markdown",
   "metadata": {},
   "source": [
    "#### 分切出五個小檔案"
   ]
  },
  {
   "cell_type": "code",
   "execution_count": 20,
   "metadata": {},
   "outputs": [],
   "source": [
    "# 讀取文字檔案中的股票代碼\n",
    "with open(r'stock/sorted.txt', 'r') as file:\n",
    "    stock_ids = file.read().strip().split(',')\n",
    "\n",
    "# 過濾掉空字串並將股票代碼轉換為整數\n",
    "stock_ids = [int(stock_id) for stock_id in stock_ids if stock_id]\n",
    "\n",
    "# 將股票代碼排序\n",
    "stock_ids = sorted(stock_ids)\n",
    "\n",
    "# 計算每個檔案應該包含的股票代碼數量\n",
    "num_files = 5\n",
    "total_stock_ids = len(stock_ids)\n",
    "average_stock_ids_per_file = total_stock_ids // num_files\n",
    "remainder = total_stock_ids % num_files\n",
    "\n",
    "import random\n",
    "\n",
    "# 生成每個檔案的股票代碼數量，確保相差大約20筆\n",
    "file_sizes = []\n",
    "for i in range(num_files):\n",
    "    size = average_stock_ids_per_file + (1 if i < remainder else 0)\n",
    "    size += random.randint(-15, 15)  # 隨機調整大小，確保相差大約20筆\n",
    "    file_sizes.append(size)\n",
    "\n",
    "# 調整檔案大小，確保總和等於總股票數量\n",
    "while sum(file_sizes) != total_stock_ids:\n",
    "    if sum(file_sizes) < total_stock_ids:\n",
    "        file_sizes[random.randint(0, num_files - 1)] += 1\n",
    "    else:\n",
    "        file_sizes[random.randint(0, num_files - 1)] -= 1\n",
    "\n",
    "# 將股票代碼分配到五個檔案中\n",
    "file_index = 1\n",
    "current_index = 0\n",
    "\n",
    "for size in file_sizes:\n",
    "    # 取得當前檔案的股票代碼\n",
    "    current_stock_ids = stock_ids[current_index:current_index + size]\n",
    "\n",
    "    # 將股票代碼轉換回字串\n",
    "    current_stock_ids_str = ','.join(map(str, current_stock_ids))\n",
    "\n",
    "    # 寫入檔案\n",
    "    with open(f'stock/Id{file_index}.txt', 'w') as file:\n",
    "        file.write(current_stock_ids_str)\n",
    "\n",
    "    # 更新索引\n",
    "    current_index += size\n",
    "    file_index += 1"
   ]
  },
  {
   "cell_type": "code",
   "execution_count": 12,
   "metadata": {},
   "outputs": [
    {
     "name": "stdout",
     "output_type": "stream",
     "text": [
      "199\n",
      "  |AMD伺服器|CPO矽光子|CoWoS設備|DRAM製造|FOPLP|GPU測試封裝|IP|IP智財|LED封裝模組|LED檢測設備|LED燈具|LED生產製程檢測|LED磊晶|LED車燈模組|LED驅動🇮🇨|MOSFET|PBC-HDI|PC|PCB|PCBIOS-嵌入式軟體|PCB生產製程及檢測設備|PCB鑽針|Switch2|TGV先進封裝|Type-C|乳膠雙雄|休閒車業|伺服器|低軌衛星|保健食品|健身器材|傳動元件|傳產|元宇宙|先進封裝|光學|光碟片|光罩|光通訊設備|再生醫療|冷凍空調|化工|半導|印刷|印表機|台積電設備|台積電設備AHF氣體|基礎工程|塑化|大數據整合|太陽能|娛樂服務業|安全監控系統|家電|導線架|居家生活|工具機|工業電腦|工程承攬|平面|平面顯示器|建材|影音揚聲器|散熱|散熱顯卡|散裝航運|文創|旅遊|旅館|晶圓製造|智慧電網|板卡顯卡|橡膠製品|水泥|水資源|汽電共生|油電燃氣|海陸空大眾運輸|海陸空貨運承攬|消費性🇮🇨|液冷三雄|清潔用品|營建|營造|玻纖布|環保|環保潔能|生技|生物檢測|砷化鎵|神盾集團|系統整合|紡織|綠電|線上遊戲|美超微MCSI|聚酯纖維|航太週邊|航空|衛星通信|被動元件|製藥|觸控面板|記憶體|貨櫃航運|貨櫃運輸|貿易百貨|資安|車用3D玻璃|車用機械傳動|軍工|農業科技|通信|通信網路|通信被動元件|造紙|連接器|運動器材|運動科技|醫療器材|醫療耗材|重電|金屬加工用機械|金融|金融科技|鋼鐵|鋼鐵風電|隱型眼鏡|雲端運算|雲端運算 |電動車|電動車電池|電子商務|電子紙|電子驗證分析|電機|電池模組|電源管理🇮🇨|電纜|電鍍|面板|音響代工|風力發電|食品|餐飲連鎖|高爾夫球具業|高速傳輸|🇦🇮|🇦🇮PC|🇦🇮PC零組件電扇|🇦🇮伺服器|🇦🇮智慧設備|🇦🇮機器學習|🇦🇮機器視覺|🇦🇮系統整合|🇦🇮運算設備|🇦🇮電腦視覺|🇦🇮領域解決方案|🇦🇮🤖|🇮🇨二極體|🇮🇨光源管理|🇮🇨光通訊|🇮🇨化學品|🇮🇨基板|🇮🇨封裝測試|🇮🇨導線架|🇮🇨微控制器|🇮🇨模組|🇮🇨檢測設備|🇮🇨特用化學|🇮🇨網路通訊|🇮🇨製程設備|🇮🇨記憶體控制|🇮🇨設備廠|🇮🇨設計|🇮🇨輸出入介面|🇮🇨通路|🇮🇨面板驅動|🇮🇨顯示驅動|💻主機板|💻周邊|💻機構樞紐|💻機殼|💻監控系統|💻連接線|💻電源供應器|🚗|🚗PC|🚗保險桿|🚗組裝|🚗車燈|🚗輪胎|🚗通信網路|🚗銷售|🚗零組件|🚗零組件AM|🚗電機|🚗面板\n"
     ]
    }
   ],
   "source": [
    "#修改股票題材\n",
    "import pandas as pd\n",
    "\n",
    "csv_file = r'webJson\\stock_subject.csv'\n",
    "df = pd.read_csv(csv_file)\n",
    "df = df.dropna()\n",
    "\n",
    "se= df[\"cg\"].drop_duplicates().sort_values().tolist()\n",
    "print(len(se))\n",
    "print('|'.join(se))"
   ]
  }
 ],
 "metadata": {
  "kernelspec": {
   "display_name": "Python 3",
   "language": "python",
   "name": "python3"
  },
  "language_info": {
   "codemirror_mode": {
    "name": "ipython",
    "version": 3
   },
   "file_extension": ".py",
   "mimetype": "text/x-python",
   "name": "python",
   "nbconvert_exporter": "python",
   "pygments_lexer": "ipython3",
   "version": "3.12.2"
  }
 },
 "nbformat": 4,
 "nbformat_minor": 2
}
